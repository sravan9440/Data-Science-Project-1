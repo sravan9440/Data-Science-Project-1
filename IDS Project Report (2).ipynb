{
 "cells": [
  {
   "cell_type": "markdown",
   "id": "c80278ad",
   "metadata": {},
   "source": [
    "# PROJECT REPORT (Intro to Data Science)  Prof: Sourav Medya"
   ]
  },
  {
   "cell_type": "markdown",
   "id": "0eaf7213",
   "metadata": {},
   "source": [
    "#### Problems being investigated : Some of the main problems we are aiming to solve are food wastage, owners loss of inventory, customers not having access to the items they want, stock inadequacy and predicting the food demand over the course of a couple of weeks."
   ]
  },
  {
   "cell_type": "code",
   "execution_count": 1,
   "id": "4c1c7278",
   "metadata": {},
   "outputs": [],
   "source": [
    "import pandas as pd\n",
    "import numpy as np\n",
    "import seaborn as sns\n",
    "from matplotlib import pyplot as plt\n",
    "import pandas_profiling as pp\n",
    "from sklearn.preprocessing import LabelEncoder\n",
    "from sklearn.model_selection import train_test_split\n",
    "from sklearn.model_selection import KFold,StratifiedKFold\n",
    "from sklearn.metrics import mean_squared_error\n",
    "from catboost import CatBoostRegressor\n",
    "from catboost import Pool"
   ]
  },
  {
   "cell_type": "markdown",
   "id": "fd180208",
   "metadata": {},
   "source": [
    "#### About the dataset : it relates to a meal delivery company and their warehouses in a particular city. The said company delivers said meals to their customers. Since delivery companies like these mostly deal with perishable food items, a system needs to be implemented in order to negate and avoid loss of said items.\n",
    "\n",
    "\n",
    "#### The dataset we retrieved has details such as week no., mel id’s, center id, base_price, checkout price, etc. for different items in different centers.\n",
    "\n"
   ]
  },
  {
   "cell_type": "code",
   "execution_count": 2,
   "id": "60bac284",
   "metadata": {},
   "outputs": [],
   "source": [
    "train = pd.read_csv('datasets/train_file.csv')\n",
    "test = pd.read_csv('datasets/test_file.csv')\n",
    "fulfilment_center = pd.read_csv('datasets/fulfilment_center_info.csv')\n",
    "meal_info = pd.read_csv('datasets/meal_info.csv')"
   ]
  },
  {
   "cell_type": "code",
   "execution_count": 3,
   "id": "1888c522",
   "metadata": {},
   "outputs": [
    {
     "name": "stdout",
     "output_type": "stream",
     "text": [
      "<class 'pandas.core.frame.DataFrame'>\n",
      "RangeIndex: 456548 entries, 0 to 456547\n",
      "Data columns (total 9 columns):\n",
      " #   Column                 Non-Null Count   Dtype  \n",
      "---  ------                 --------------   -----  \n",
      " 0   id                     456548 non-null  int64  \n",
      " 1   week                   456548 non-null  int64  \n",
      " 2   center_id              456548 non-null  int64  \n",
      " 3   meal_id                456548 non-null  int64  \n",
      " 4   checkout_price         456548 non-null  float64\n",
      " 5   base_price             456548 non-null  float64\n",
      " 6   emailer_for_promotion  456548 non-null  int64  \n",
      " 7   homepage_featured      456548 non-null  int64  \n",
      " 8   num_orders             456548 non-null  int64  \n",
      "dtypes: float64(2), int64(7)\n",
      "memory usage: 31.3 MB\n"
     ]
    }
   ],
   "source": [
    "train.info()"
   ]
  },
  {
   "cell_type": "code",
   "execution_count": 4,
   "id": "d618b5e0",
   "metadata": {},
   "outputs": [
    {
     "name": "stdout",
     "output_type": "stream",
     "text": [
      "<class 'pandas.core.frame.DataFrame'>\n",
      "RangeIndex: 32573 entries, 0 to 32572\n",
      "Data columns (total 8 columns):\n",
      " #   Column                 Non-Null Count  Dtype  \n",
      "---  ------                 --------------  -----  \n",
      " 0   id                     32573 non-null  int64  \n",
      " 1   week                   32573 non-null  int64  \n",
      " 2   center_id              32573 non-null  int64  \n",
      " 3   meal_id                32573 non-null  int64  \n",
      " 4   checkout_price         32573 non-null  float64\n",
      " 5   base_price             32573 non-null  float64\n",
      " 6   emailer_for_promotion  32573 non-null  int64  \n",
      " 7   homepage_featured      32573 non-null  int64  \n",
      "dtypes: float64(2), int64(6)\n",
      "memory usage: 2.0 MB\n"
     ]
    }
   ],
   "source": [
    "test.info()"
   ]
  },
  {
   "cell_type": "code",
   "execution_count": 5,
   "id": "04a24410",
   "metadata": {},
   "outputs": [
    {
     "data": {
      "text/html": [
       "<div>\n",
       "<style scoped>\n",
       "    .dataframe tbody tr th:only-of-type {\n",
       "        vertical-align: middle;\n",
       "    }\n",
       "\n",
       "    .dataframe tbody tr th {\n",
       "        vertical-align: top;\n",
       "    }\n",
       "\n",
       "    .dataframe thead th {\n",
       "        text-align: right;\n",
       "    }\n",
       "</style>\n",
       "<table border=\"1\" class=\"dataframe\">\n",
       "  <thead>\n",
       "    <tr style=\"text-align: right;\">\n",
       "      <th></th>\n",
       "      <th>id</th>\n",
       "      <th>week</th>\n",
       "      <th>center_id</th>\n",
       "      <th>meal_id</th>\n",
       "      <th>checkout_price</th>\n",
       "      <th>base_price</th>\n",
       "      <th>emailer_for_promotion</th>\n",
       "      <th>homepage_featured</th>\n",
       "    </tr>\n",
       "  </thead>\n",
       "  <tbody>\n",
       "    <tr>\n",
       "      <th>0</th>\n",
       "      <td>1028232</td>\n",
       "      <td>146</td>\n",
       "      <td>55</td>\n",
       "      <td>1885</td>\n",
       "      <td>158.11</td>\n",
       "      <td>159.11</td>\n",
       "      <td>0</td>\n",
       "      <td>0</td>\n",
       "    </tr>\n",
       "    <tr>\n",
       "      <th>1</th>\n",
       "      <td>1127204</td>\n",
       "      <td>146</td>\n",
       "      <td>55</td>\n",
       "      <td>1993</td>\n",
       "      <td>160.11</td>\n",
       "      <td>159.11</td>\n",
       "      <td>0</td>\n",
       "      <td>0</td>\n",
       "    </tr>\n",
       "    <tr>\n",
       "      <th>2</th>\n",
       "      <td>1212707</td>\n",
       "      <td>146</td>\n",
       "      <td>55</td>\n",
       "      <td>2539</td>\n",
       "      <td>157.14</td>\n",
       "      <td>159.14</td>\n",
       "      <td>0</td>\n",
       "      <td>0</td>\n",
       "    </tr>\n",
       "    <tr>\n",
       "      <th>3</th>\n",
       "      <td>1082698</td>\n",
       "      <td>146</td>\n",
       "      <td>55</td>\n",
       "      <td>2631</td>\n",
       "      <td>162.02</td>\n",
       "      <td>162.02</td>\n",
       "      <td>0</td>\n",
       "      <td>0</td>\n",
       "    </tr>\n",
       "    <tr>\n",
       "      <th>4</th>\n",
       "      <td>1400926</td>\n",
       "      <td>146</td>\n",
       "      <td>55</td>\n",
       "      <td>1248</td>\n",
       "      <td>163.93</td>\n",
       "      <td>163.93</td>\n",
       "      <td>0</td>\n",
       "      <td>0</td>\n",
       "    </tr>\n",
       "  </tbody>\n",
       "</table>\n",
       "</div>"
      ],
      "text/plain": [
       "        id  week  center_id  meal_id  checkout_price  base_price  \\\n",
       "0  1028232   146         55     1885          158.11      159.11   \n",
       "1  1127204   146         55     1993          160.11      159.11   \n",
       "2  1212707   146         55     2539          157.14      159.14   \n",
       "3  1082698   146         55     2631          162.02      162.02   \n",
       "4  1400926   146         55     1248          163.93      163.93   \n",
       "\n",
       "   emailer_for_promotion  homepage_featured  \n",
       "0                      0                  0  \n",
       "1                      0                  0  \n",
       "2                      0                  0  \n",
       "3                      0                  0  \n",
       "4                      0                  0  "
      ]
     },
     "execution_count": 5,
     "metadata": {},
     "output_type": "execute_result"
    }
   ],
   "source": [
    "test.head()"
   ]
  },
  {
   "cell_type": "code",
   "execution_count": 6,
   "id": "25a0e366",
   "metadata": {},
   "outputs": [
    {
     "data": {
      "text/html": [
       "<div>\n",
       "<style scoped>\n",
       "    .dataframe tbody tr th:only-of-type {\n",
       "        vertical-align: middle;\n",
       "    }\n",
       "\n",
       "    .dataframe tbody tr th {\n",
       "        vertical-align: top;\n",
       "    }\n",
       "\n",
       "    .dataframe thead th {\n",
       "        text-align: right;\n",
       "    }\n",
       "</style>\n",
       "<table border=\"1\" class=\"dataframe\">\n",
       "  <thead>\n",
       "    <tr style=\"text-align: right;\">\n",
       "      <th></th>\n",
       "      <th>id</th>\n",
       "      <th>week</th>\n",
       "      <th>center_id</th>\n",
       "      <th>meal_id</th>\n",
       "      <th>checkout_price</th>\n",
       "      <th>base_price</th>\n",
       "      <th>emailer_for_promotion</th>\n",
       "      <th>homepage_featured</th>\n",
       "      <th>num_orders</th>\n",
       "    </tr>\n",
       "  </thead>\n",
       "  <tbody>\n",
       "    <tr>\n",
       "      <th>0</th>\n",
       "      <td>1379560</td>\n",
       "      <td>1</td>\n",
       "      <td>55</td>\n",
       "      <td>1885</td>\n",
       "      <td>136.83</td>\n",
       "      <td>152.29</td>\n",
       "      <td>0</td>\n",
       "      <td>0</td>\n",
       "      <td>177</td>\n",
       "    </tr>\n",
       "    <tr>\n",
       "      <th>1</th>\n",
       "      <td>1466964</td>\n",
       "      <td>1</td>\n",
       "      <td>55</td>\n",
       "      <td>1993</td>\n",
       "      <td>136.83</td>\n",
       "      <td>135.83</td>\n",
       "      <td>0</td>\n",
       "      <td>0</td>\n",
       "      <td>270</td>\n",
       "    </tr>\n",
       "    <tr>\n",
       "      <th>2</th>\n",
       "      <td>1346989</td>\n",
       "      <td>1</td>\n",
       "      <td>55</td>\n",
       "      <td>2539</td>\n",
       "      <td>134.86</td>\n",
       "      <td>135.86</td>\n",
       "      <td>0</td>\n",
       "      <td>0</td>\n",
       "      <td>189</td>\n",
       "    </tr>\n",
       "    <tr>\n",
       "      <th>3</th>\n",
       "      <td>1338232</td>\n",
       "      <td>1</td>\n",
       "      <td>55</td>\n",
       "      <td>2139</td>\n",
       "      <td>339.50</td>\n",
       "      <td>437.53</td>\n",
       "      <td>0</td>\n",
       "      <td>0</td>\n",
       "      <td>54</td>\n",
       "    </tr>\n",
       "    <tr>\n",
       "      <th>4</th>\n",
       "      <td>1448490</td>\n",
       "      <td>1</td>\n",
       "      <td>55</td>\n",
       "      <td>2631</td>\n",
       "      <td>243.50</td>\n",
       "      <td>242.50</td>\n",
       "      <td>0</td>\n",
       "      <td>0</td>\n",
       "      <td>40</td>\n",
       "    </tr>\n",
       "  </tbody>\n",
       "</table>\n",
       "</div>"
      ],
      "text/plain": [
       "        id  week  center_id  meal_id  checkout_price  base_price  \\\n",
       "0  1379560     1         55     1885          136.83      152.29   \n",
       "1  1466964     1         55     1993          136.83      135.83   \n",
       "2  1346989     1         55     2539          134.86      135.86   \n",
       "3  1338232     1         55     2139          339.50      437.53   \n",
       "4  1448490     1         55     2631          243.50      242.50   \n",
       "\n",
       "   emailer_for_promotion  homepage_featured  num_orders  \n",
       "0                      0                  0         177  \n",
       "1                      0                  0         270  \n",
       "2                      0                  0         189  \n",
       "3                      0                  0          54  \n",
       "4                      0                  0          40  "
      ]
     },
     "execution_count": 6,
     "metadata": {},
     "output_type": "execute_result"
    }
   ],
   "source": [
    "train.head()"
   ]
  },
  {
   "cell_type": "code",
   "execution_count": 7,
   "id": "4701b4fc",
   "metadata": {},
   "outputs": [
    {
     "data": {
      "text/html": [
       "<div>\n",
       "<style scoped>\n",
       "    .dataframe tbody tr th:only-of-type {\n",
       "        vertical-align: middle;\n",
       "    }\n",
       "\n",
       "    .dataframe tbody tr th {\n",
       "        vertical-align: top;\n",
       "    }\n",
       "\n",
       "    .dataframe thead th {\n",
       "        text-align: right;\n",
       "    }\n",
       "</style>\n",
       "<table border=\"1\" class=\"dataframe\">\n",
       "  <thead>\n",
       "    <tr style=\"text-align: right;\">\n",
       "      <th></th>\n",
       "      <th>center_id</th>\n",
       "      <th>city_code</th>\n",
       "      <th>region_code</th>\n",
       "      <th>center_type</th>\n",
       "      <th>op_area</th>\n",
       "    </tr>\n",
       "  </thead>\n",
       "  <tbody>\n",
       "    <tr>\n",
       "      <th>0</th>\n",
       "      <td>11</td>\n",
       "      <td>679</td>\n",
       "      <td>56</td>\n",
       "      <td>TYPE_A</td>\n",
       "      <td>3.7</td>\n",
       "    </tr>\n",
       "    <tr>\n",
       "      <th>1</th>\n",
       "      <td>13</td>\n",
       "      <td>590</td>\n",
       "      <td>56</td>\n",
       "      <td>TYPE_B</td>\n",
       "      <td>6.7</td>\n",
       "    </tr>\n",
       "    <tr>\n",
       "      <th>2</th>\n",
       "      <td>124</td>\n",
       "      <td>590</td>\n",
       "      <td>56</td>\n",
       "      <td>TYPE_C</td>\n",
       "      <td>4.0</td>\n",
       "    </tr>\n",
       "    <tr>\n",
       "      <th>3</th>\n",
       "      <td>66</td>\n",
       "      <td>648</td>\n",
       "      <td>34</td>\n",
       "      <td>TYPE_A</td>\n",
       "      <td>4.1</td>\n",
       "    </tr>\n",
       "    <tr>\n",
       "      <th>4</th>\n",
       "      <td>94</td>\n",
       "      <td>632</td>\n",
       "      <td>34</td>\n",
       "      <td>TYPE_C</td>\n",
       "      <td>3.6</td>\n",
       "    </tr>\n",
       "  </tbody>\n",
       "</table>\n",
       "</div>"
      ],
      "text/plain": [
       "   center_id  city_code  region_code center_type  op_area\n",
       "0         11        679           56      TYPE_A      3.7\n",
       "1         13        590           56      TYPE_B      6.7\n",
       "2        124        590           56      TYPE_C      4.0\n",
       "3         66        648           34      TYPE_A      4.1\n",
       "4         94        632           34      TYPE_C      3.6"
      ]
     },
     "execution_count": 7,
     "metadata": {},
     "output_type": "execute_result"
    }
   ],
   "source": [
    "fulfilment_center.head()"
   ]
  },
  {
   "cell_type": "code",
   "execution_count": 8,
   "id": "038cd5aa",
   "metadata": {},
   "outputs": [
    {
     "data": {
      "text/html": [
       "<div>\n",
       "<style scoped>\n",
       "    .dataframe tbody tr th:only-of-type {\n",
       "        vertical-align: middle;\n",
       "    }\n",
       "\n",
       "    .dataframe tbody tr th {\n",
       "        vertical-align: top;\n",
       "    }\n",
       "\n",
       "    .dataframe thead th {\n",
       "        text-align: right;\n",
       "    }\n",
       "</style>\n",
       "<table border=\"1\" class=\"dataframe\">\n",
       "  <thead>\n",
       "    <tr style=\"text-align: right;\">\n",
       "      <th></th>\n",
       "      <th>meal_id</th>\n",
       "      <th>category</th>\n",
       "      <th>cuisine</th>\n",
       "    </tr>\n",
       "  </thead>\n",
       "  <tbody>\n",
       "    <tr>\n",
       "      <th>0</th>\n",
       "      <td>1885</td>\n",
       "      <td>Beverages</td>\n",
       "      <td>Thai</td>\n",
       "    </tr>\n",
       "    <tr>\n",
       "      <th>1</th>\n",
       "      <td>1993</td>\n",
       "      <td>Beverages</td>\n",
       "      <td>Thai</td>\n",
       "    </tr>\n",
       "    <tr>\n",
       "      <th>2</th>\n",
       "      <td>2539</td>\n",
       "      <td>Beverages</td>\n",
       "      <td>Thai</td>\n",
       "    </tr>\n",
       "    <tr>\n",
       "      <th>3</th>\n",
       "      <td>1248</td>\n",
       "      <td>Beverages</td>\n",
       "      <td>Indian</td>\n",
       "    </tr>\n",
       "    <tr>\n",
       "      <th>4</th>\n",
       "      <td>2631</td>\n",
       "      <td>Beverages</td>\n",
       "      <td>Indian</td>\n",
       "    </tr>\n",
       "  </tbody>\n",
       "</table>\n",
       "</div>"
      ],
      "text/plain": [
       "   meal_id   category cuisine\n",
       "0     1885  Beverages    Thai\n",
       "1     1993  Beverages    Thai\n",
       "2     2539  Beverages    Thai\n",
       "3     1248  Beverages  Indian\n",
       "4     2631  Beverages  Indian"
      ]
     },
     "execution_count": 8,
     "metadata": {},
     "output_type": "execute_result"
    }
   ],
   "source": [
    "meal_info.head()"
   ]
  },
  {
   "cell_type": "code",
   "execution_count": 9,
   "id": "9a5ef98d",
   "metadata": {},
   "outputs": [
    {
     "name": "stdout",
     "output_type": "stream",
     "text": [
      "<class 'pandas.core.frame.DataFrame'>\n",
      "RangeIndex: 51 entries, 0 to 50\n",
      "Data columns (total 3 columns):\n",
      " #   Column    Non-Null Count  Dtype \n",
      "---  ------    --------------  ----- \n",
      " 0   meal_id   51 non-null     int64 \n",
      " 1   category  51 non-null     object\n",
      " 2   cuisine   51 non-null     object\n",
      "dtypes: int64(1), object(2)\n",
      "memory usage: 1.3+ KB\n"
     ]
    }
   ],
   "source": [
    "meal_info.info()"
   ]
  },
  {
   "cell_type": "code",
   "execution_count": 10,
   "id": "852e51ff",
   "metadata": {},
   "outputs": [],
   "source": [
    "train = pd.merge(train,fulfilment_center, on='center_id')\n",
    "test = pd.merge(test,fulfilment_center, on='center_id')\n",
    "\n",
    "train = pd.merge(train,meal_info, on='meal_id')\n",
    "test = pd.merge(test,meal_info, on='meal_id')"
   ]
  },
  {
   "cell_type": "code",
   "execution_count": 11,
   "id": "0cd7b64a",
   "metadata": {},
   "outputs": [
    {
     "data": {
      "text/html": [
       "<div>\n",
       "<style scoped>\n",
       "    .dataframe tbody tr th:only-of-type {\n",
       "        vertical-align: middle;\n",
       "    }\n",
       "\n",
       "    .dataframe tbody tr th {\n",
       "        vertical-align: top;\n",
       "    }\n",
       "\n",
       "    .dataframe thead th {\n",
       "        text-align: right;\n",
       "    }\n",
       "</style>\n",
       "<table border=\"1\" class=\"dataframe\">\n",
       "  <thead>\n",
       "    <tr style=\"text-align: right;\">\n",
       "      <th></th>\n",
       "      <th>id</th>\n",
       "      <th>week</th>\n",
       "      <th>center_id</th>\n",
       "      <th>meal_id</th>\n",
       "      <th>checkout_price</th>\n",
       "      <th>base_price</th>\n",
       "      <th>emailer_for_promotion</th>\n",
       "      <th>homepage_featured</th>\n",
       "      <th>num_orders</th>\n",
       "      <th>city_code</th>\n",
       "      <th>region_code</th>\n",
       "      <th>center_type</th>\n",
       "      <th>op_area</th>\n",
       "      <th>category</th>\n",
       "      <th>cuisine</th>\n",
       "    </tr>\n",
       "  </thead>\n",
       "  <tbody>\n",
       "    <tr>\n",
       "      <th>0</th>\n",
       "      <td>1379560</td>\n",
       "      <td>1</td>\n",
       "      <td>55</td>\n",
       "      <td>1885</td>\n",
       "      <td>136.83</td>\n",
       "      <td>152.29</td>\n",
       "      <td>0</td>\n",
       "      <td>0</td>\n",
       "      <td>177</td>\n",
       "      <td>647</td>\n",
       "      <td>56</td>\n",
       "      <td>TYPE_C</td>\n",
       "      <td>2.0</td>\n",
       "      <td>Beverages</td>\n",
       "      <td>Thai</td>\n",
       "    </tr>\n",
       "    <tr>\n",
       "      <th>1</th>\n",
       "      <td>1018704</td>\n",
       "      <td>2</td>\n",
       "      <td>55</td>\n",
       "      <td>1885</td>\n",
       "      <td>135.83</td>\n",
       "      <td>152.29</td>\n",
       "      <td>0</td>\n",
       "      <td>0</td>\n",
       "      <td>323</td>\n",
       "      <td>647</td>\n",
       "      <td>56</td>\n",
       "      <td>TYPE_C</td>\n",
       "      <td>2.0</td>\n",
       "      <td>Beverages</td>\n",
       "      <td>Thai</td>\n",
       "    </tr>\n",
       "    <tr>\n",
       "      <th>2</th>\n",
       "      <td>1196273</td>\n",
       "      <td>3</td>\n",
       "      <td>55</td>\n",
       "      <td>1885</td>\n",
       "      <td>132.92</td>\n",
       "      <td>133.92</td>\n",
       "      <td>0</td>\n",
       "      <td>0</td>\n",
       "      <td>96</td>\n",
       "      <td>647</td>\n",
       "      <td>56</td>\n",
       "      <td>TYPE_C</td>\n",
       "      <td>2.0</td>\n",
       "      <td>Beverages</td>\n",
       "      <td>Thai</td>\n",
       "    </tr>\n",
       "    <tr>\n",
       "      <th>3</th>\n",
       "      <td>1116527</td>\n",
       "      <td>4</td>\n",
       "      <td>55</td>\n",
       "      <td>1885</td>\n",
       "      <td>135.86</td>\n",
       "      <td>134.86</td>\n",
       "      <td>0</td>\n",
       "      <td>0</td>\n",
       "      <td>163</td>\n",
       "      <td>647</td>\n",
       "      <td>56</td>\n",
       "      <td>TYPE_C</td>\n",
       "      <td>2.0</td>\n",
       "      <td>Beverages</td>\n",
       "      <td>Thai</td>\n",
       "    </tr>\n",
       "    <tr>\n",
       "      <th>4</th>\n",
       "      <td>1343872</td>\n",
       "      <td>5</td>\n",
       "      <td>55</td>\n",
       "      <td>1885</td>\n",
       "      <td>146.50</td>\n",
       "      <td>147.50</td>\n",
       "      <td>0</td>\n",
       "      <td>0</td>\n",
       "      <td>215</td>\n",
       "      <td>647</td>\n",
       "      <td>56</td>\n",
       "      <td>TYPE_C</td>\n",
       "      <td>2.0</td>\n",
       "      <td>Beverages</td>\n",
       "      <td>Thai</td>\n",
       "    </tr>\n",
       "  </tbody>\n",
       "</table>\n",
       "</div>"
      ],
      "text/plain": [
       "        id  week  center_id  meal_id  checkout_price  base_price  \\\n",
       "0  1379560     1         55     1885          136.83      152.29   \n",
       "1  1018704     2         55     1885          135.83      152.29   \n",
       "2  1196273     3         55     1885          132.92      133.92   \n",
       "3  1116527     4         55     1885          135.86      134.86   \n",
       "4  1343872     5         55     1885          146.50      147.50   \n",
       "\n",
       "   emailer_for_promotion  homepage_featured  num_orders  city_code  \\\n",
       "0                      0                  0         177        647   \n",
       "1                      0                  0         323        647   \n",
       "2                      0                  0          96        647   \n",
       "3                      0                  0         163        647   \n",
       "4                      0                  0         215        647   \n",
       "\n",
       "   region_code center_type  op_area   category cuisine  \n",
       "0           56      TYPE_C      2.0  Beverages    Thai  \n",
       "1           56      TYPE_C      2.0  Beverages    Thai  \n",
       "2           56      TYPE_C      2.0  Beverages    Thai  \n",
       "3           56      TYPE_C      2.0  Beverages    Thai  \n",
       "4           56      TYPE_C      2.0  Beverages    Thai  "
      ]
     },
     "execution_count": 11,
     "metadata": {},
     "output_type": "execute_result"
    }
   ],
   "source": [
    "train.head()"
   ]
  },
  {
   "cell_type": "code",
   "execution_count": 12,
   "id": "82769598",
   "metadata": {},
   "outputs": [
    {
     "name": "stdout",
     "output_type": "stream",
     "text": [
      "<class 'pandas.core.frame.DataFrame'>\n",
      "Int64Index: 456548 entries, 0 to 456547\n",
      "Data columns (total 15 columns):\n",
      " #   Column                 Non-Null Count   Dtype  \n",
      "---  ------                 --------------   -----  \n",
      " 0   id                     456548 non-null  int64  \n",
      " 1   week                   456548 non-null  int64  \n",
      " 2   center_id              456548 non-null  int64  \n",
      " 3   meal_id                456548 non-null  int64  \n",
      " 4   checkout_price         456548 non-null  float64\n",
      " 5   base_price             456548 non-null  float64\n",
      " 6   emailer_for_promotion  456548 non-null  int64  \n",
      " 7   homepage_featured      456548 non-null  int64  \n",
      " 8   num_orders             456548 non-null  int64  \n",
      " 9   city_code              456548 non-null  int64  \n",
      " 10  region_code            456548 non-null  int64  \n",
      " 11  center_type            456548 non-null  object \n",
      " 12  op_area                456548 non-null  float64\n",
      " 13  category               456548 non-null  object \n",
      " 14  cuisine                456548 non-null  object \n",
      "dtypes: float64(3), int64(9), object(3)\n",
      "memory usage: 55.7+ MB\n"
     ]
    }
   ],
   "source": [
    "train.info()"
   ]
  },
  {
   "cell_type": "markdown",
   "id": "a8f6f066",
   "metadata": {},
   "source": [
    "# Exploratory Data Analysis "
   ]
  },
  {
   "cell_type": "markdown",
   "id": "bb0cd9ba",
   "metadata": {},
   "source": [
    "#### The below lineplot is being used to give a visual representation between the number of orders and the week. From this plot we are able to deduce the frequeny of orders over the course of a time period."
   ]
  },
  {
   "cell_type": "code",
   "execution_count": 14,
   "id": "1cb4b612",
   "metadata": {},
   "outputs": [
    {
     "name": "stderr",
     "output_type": "stream",
     "text": [
      "C:\\Users\\SRAVA\\anaconda3\\lib\\site-packages\\seaborn\\_decorators.py:36: FutureWarning: Pass the following variables as keyword args: x, y. From version 0.12, the only valid positional argument will be `data`, and passing other arguments without an explicit keyword will result in an error or misinterpretation.\n",
      "  warnings.warn(\n"
     ]
    },
    {
     "data": {
      "text/plain": [
       "<AxesSubplot:xlabel='week', ylabel='num_orders'>"
      ]
     },
     "execution_count": 14,
     "metadata": {},
     "output_type": "execute_result"
    },
    {
     "data": {
      "image/png": "[encoded data removed]",
      "text/plain": [
       "<Figure size 432x288 with 1 Axes>"
      ]
     },
     "metadata": {
      "needs_background": "light"
     },
     "output_type": "display_data"
    }
   ],
   "source": [
    "sns.lineplot(train['week'],train['num_orders'])"
   ]
  },
  {
   "cell_type": "markdown",
   "id": "6e54af6f",
   "metadata": {},
   "source": [
    "#### The barplot between center_id and number of orders allows us to know how many orders each center is receiving."
   ]
  },
  {
   "cell_type": "code",
   "execution_count": 15,
   "id": "b746868b",
   "metadata": {},
   "outputs": [
    {
     "name": "stderr",
     "output_type": "stream",
     "text": [
      "C:\\Users\\SRAVA\\anaconda3\\lib\\site-packages\\seaborn\\_decorators.py:36: FutureWarning: Pass the following variables as keyword args: x, y. From version 0.12, the only valid positional argument will be `data`, and passing other arguments without an explicit keyword will result in an error or misinterpretation.\n",
      "  warnings.warn(\n"
     ]
    },
    {
     "data": {
      "text/plain": [
       "(array([ 0,  1,  2,  3,  4,  5,  6,  7,  8,  9, 10, 11, 12, 13, 14, 15, 16,\n",
       "        17, 18, 19, 20, 21, 22, 23, 24, 25, 26, 27, 28, 29, 30, 31, 32, 33,\n",
       "        34, 35, 36, 37, 38, 39, 40, 41, 42, 43, 44, 45, 46, 47, 48, 49, 50,\n",
       "        51, 52, 53, 54, 55, 56, 57, 58, 59, 60, 61, 62, 63, 64, 65, 66, 67,\n",
       "        68, 69, 70, 71, 72, 73, 74, 75, 76]),\n",
       " [Text(0, 0, '10'),\n",
       "  Text(1, 0, '11'),\n",
       "  Text(2, 0, '13'),\n",
       "  Text(3, 0, '14'),\n",
       "  Text(4, 0, '17'),\n",
       "  Text(5, 0, '20'),\n",
       "  Text(6, 0, '23'),\n",
       "  Text(7, 0, '24'),\n",
       "  Text(8, 0, '26'),\n",
       "  Text(9, 0, '27'),\n",
       "  Text(10, 0, '29'),\n",
       "  Text(11, 0, '30'),\n",
       "  Text(12, 0, '32'),\n",
       "  Text(13, 0, '34'),\n",
       "  Text(14, 0, '36'),\n",
       "  Text(15, 0, '39'),\n",
       "  Text(16, 0, '41'),\n",
       "  Text(17, 0, '42'),\n",
       "  Text(18, 0, '43'),\n",
       "  Text(19, 0, '50'),\n",
       "  Text(20, 0, '51'),\n",
       "  Text(21, 0, '52'),\n",
       "  Text(22, 0, '53'),\n",
       "  Text(23, 0, '55'),\n",
       "  Text(24, 0, '57'),\n",
       "  Text(25, 0, '58'),\n",
       "  Text(26, 0, '59'),\n",
       "  Text(27, 0, '61'),\n",
       "  Text(28, 0, '64'),\n",
       "  Text(29, 0, '65'),\n",
       "  Text(30, 0, '66'),\n",
       "  Text(31, 0, '67'),\n",
       "  Text(32, 0, '68'),\n",
       "  Text(33, 0, '72'),\n",
       "  Text(34, 0, '73'),\n",
       "  Text(35, 0, '74'),\n",
       "  Text(36, 0, '75'),\n",
       "  Text(37, 0, '76'),\n",
       "  Text(38, 0, '77'),\n",
       "  Text(39, 0, '80'),\n",
       "  Text(40, 0, '81'),\n",
       "  Text(41, 0, '83'),\n",
       "  Text(42, 0, '86'),\n",
       "  Text(43, 0, '88'),\n",
       "  Text(44, 0, '89'),\n",
       "  Text(45, 0, '91'),\n",
       "  Text(46, 0, '92'),\n",
       "  Text(47, 0, '93'),\n",
       "  Text(48, 0, '94'),\n",
       "  Text(49, 0, '97'),\n",
       "  Text(50, 0, '99'),\n",
       "  Text(51, 0, '101'),\n",
       "  Text(52, 0, '102'),\n",
       "  Text(53, 0, '104'),\n",
       "  Text(54, 0, '106'),\n",
       "  Text(55, 0, '108'),\n",
       "  Text(56, 0, '109'),\n",
       "  Text(57, 0, '110'),\n",
       "  Text(58, 0, '113'),\n",
       "  Text(59, 0, '124'),\n",
       "  Text(60, 0, '126'),\n",
       "  Text(61, 0, '129'),\n",
       "  Text(62, 0, '132'),\n",
       "  Text(63, 0, '137'),\n",
       "  Text(64, 0, '139'),\n",
       "  Text(65, 0, '143'),\n",
       "  Text(66, 0, '145'),\n",
       "  Text(67, 0, '146'),\n",
       "  Text(68, 0, '149'),\n",
       "  Text(69, 0, '152'),\n",
       "  Text(70, 0, '153'),\n",
       "  Text(71, 0, '157'),\n",
       "  Text(72, 0, '161'),\n",
       "  Text(73, 0, '162'),\n",
       "  Text(74, 0, '174'),\n",
       "  Text(75, 0, '177'),\n",
       "  Text(76, 0, '186')])"
      ]
     },
     "execution_count": 15,
     "metadata": {},
     "output_type": "execute_result"
    },
    {
     "data": {
      "image/png": "[encoded data removed]",
      "text/plain": [
       "<Figure size 432x288 with 1 Axes>"
      ]
     },
     "metadata": {
      "needs_background": "light"
     },
     "output_type": "display_data"
    }
   ],
   "source": [
    "sns.barplot(train['center_id'],train['num_orders'])\n",
    "plt.xticks(rotation=90)"
   ]
  },
  {
   "cell_type": "markdown",
   "id": "a36d3447",
   "metadata": {},
   "source": [
    "#### The lineplot below makes use of number of orders and the checkout price, this allows us to know how the number of orders effects the final pricing."
   ]
  },
  {
   "cell_type": "code",
   "execution_count": 16,
   "id": "79f47e71",
   "metadata": {},
   "outputs": [
    {
     "name": "stderr",
     "output_type": "stream",
     "text": [
      "C:\\Users\\SRAVA\\anaconda3\\lib\\site-packages\\seaborn\\_decorators.py:36: FutureWarning: Pass the following variables as keyword args: x, y. From version 0.12, the only valid positional argument will be `data`, and passing other arguments without an explicit keyword will result in an error or misinterpretation.\n",
      "  warnings.warn(\n"
     ]
    },
    {
     "data": {
      "text/plain": [
       "<AxesSubplot:xlabel='checkout_price', ylabel='num_orders'>"
      ]
     },
     "execution_count": 16,
     "metadata": {},
     "output_type": "execute_result"
    },
    {
     "data": {
      "image/png": "[encoded data removed]",
      "text/plain": [
       "<Figure size 432x288 with 1 Axes>"
      ]
     },
     "metadata": {
      "needs_background": "light"
     },
     "output_type": "display_data"
    }
   ],
   "source": [
    "sns.lineplot(train['checkout_price'],train['num_orders'])"
   ]
  },
  {
   "cell_type": "markdown",
   "id": "96b97859",
   "metadata": {},
   "source": [
    "#### The barplot between number of orders and categories allows us to know which items are in most demand."
   ]
  },
  {
   "cell_type": "code",
   "execution_count": 17,
   "id": "51e24459",
   "metadata": {},
   "outputs": [
    {
     "name": "stderr",
     "output_type": "stream",
     "text": [
      "C:\\Users\\SRAVA\\anaconda3\\lib\\site-packages\\seaborn\\_decorators.py:36: FutureWarning: Pass the following variables as keyword args: x, y. From version 0.12, the only valid positional argument will be `data`, and passing other arguments without an explicit keyword will result in an error or misinterpretation.\n",
      "  warnings.warn(\n"
     ]
    },
    {
     "data": {
      "text/plain": [
       "(array([ 0,  1,  2,  3,  4,  5,  6,  7,  8,  9, 10, 11, 12, 13]),\n",
       " [Text(0, 0, 'Beverages'),\n",
       "  Text(1, 0, 'Rice Bowl'),\n",
       "  Text(2, 0, 'Starters'),\n",
       "  Text(3, 0, 'Pasta'),\n",
       "  Text(4, 0, 'Sandwich'),\n",
       "  Text(5, 0, 'Biryani'),\n",
       "  Text(6, 0, 'Extras'),\n",
       "  Text(7, 0, 'Pizza'),\n",
       "  Text(8, 0, 'Seafood'),\n",
       "  Text(9, 0, 'Other Snacks'),\n",
       "  Text(10, 0, 'Desert'),\n",
       "  Text(11, 0, 'Salad'),\n",
       "  Text(12, 0, 'Fish'),\n",
       "  Text(13, 0, 'Soup')])"
      ]
     },
     "execution_count": 17,
     "metadata": {},
     "output_type": "execute_result"
    },
    {
     "data": {
      "image/png": "[encoded data removed]",
      "text/plain": [
       "<Figure size 432x288 with 1 Axes>"
      ]
     },
     "metadata": {
      "needs_background": "light"
     },
     "output_type": "display_data"
    }
   ],
   "source": [
    "sns.barplot(train['category'],train['num_orders'])\n",
    "plt.xticks(rotation = '90')"
   ]
  },
  {
   "cell_type": "markdown",
   "id": "93ad8061",
   "metadata": {},
   "source": [
    "#### The barplot lets us know which cusine has a higher frequency of orders."
   ]
  },
  {
   "cell_type": "code",
   "execution_count": 18,
   "id": "56e8e775",
   "metadata": {},
   "outputs": [
    {
     "name": "stderr",
     "output_type": "stream",
     "text": [
      "C:\\Users\\SRAVA\\anaconda3\\lib\\site-packages\\seaborn\\_decorators.py:36: FutureWarning: Pass the following variables as keyword args: x, y. From version 0.12, the only valid positional argument will be `data`, and passing other arguments without an explicit keyword will result in an error or misinterpretation.\n",
      "  warnings.warn(\n"
     ]
    },
    {
     "data": {
      "text/plain": [
       "<AxesSubplot:xlabel='cuisine', ylabel='num_orders'>"
      ]
     },
     "execution_count": 18,
     "metadata": {},
     "output_type": "execute_result"
    },
    {
     "data": {
      "image/png": "[encoded data removed]",
      "text/plain": [
       "<Figure size 432x288 with 1 Axes>"
      ]
     },
     "metadata": {
      "needs_background": "light"
     },
     "output_type": "display_data"
    }
   ],
   "source": [
    "sns.barplot(train['cuisine'],train['num_orders'])\n",
    "#plt.xticks(rotation = '90')"
   ]
  },
  {
   "cell_type": "markdown",
   "id": "8c0d814e",
   "metadata": {},
   "source": [
    "#### The barplot below lets us the frequency of number of orders based on region."
   ]
  },
  {
   "cell_type": "code",
   "execution_count": 19,
   "id": "a9efb2c5",
   "metadata": {},
   "outputs": [
    {
     "name": "stderr",
     "output_type": "stream",
     "text": [
      "C:\\Users\\SRAVA\\anaconda3\\lib\\site-packages\\seaborn\\_decorators.py:36: FutureWarning: Pass the following variables as keyword args: x, y. From version 0.12, the only valid positional argument will be `data`, and passing other arguments without an explicit keyword will result in an error or misinterpretation.\n",
      "  warnings.warn(\n"
     ]
    },
    {
     "data": {
      "text/plain": [
       "<AxesSubplot:xlabel='region_code', ylabel='num_orders'>"
      ]
     },
     "execution_count": 19,
     "metadata": {},
     "output_type": "execute_result"
    },
    {
     "data": {
      "image/png": "[encoded data removed]",
      "text/plain": [
       "<Figure size 432x288 with 1 Axes>"
      ]
     },
     "metadata": {
      "needs_background": "light"
     },
     "output_type": "display_data"
    }
   ],
   "source": [
    "sns.barplot(train['region_code'],train['num_orders'])\n",
    "#plt.xticks(rotation = '90')"
   ]
  },
  {
   "cell_type": "code",
   "execution_count": 20,
   "id": "87b75938",
   "metadata": {},
   "outputs": [
    {
     "name": "stderr",
     "output_type": "stream",
     "text": [
      "C:\\Users\\SRAVA\\anaconda3\\lib\\site-packages\\seaborn\\_decorators.py:36: FutureWarning: Pass the following variables as keyword args: x, y. From version 0.12, the only valid positional argument will be `data`, and passing other arguments without an explicit keyword will result in an error or misinterpretation.\n",
      "  warnings.warn(\n"
     ]
    },
    {
     "data": {
      "text/plain": [
       "(array([ 0,  1,  2,  3,  4,  5,  6,  7,  8,  9, 10, 11, 12, 13, 14, 15, 16,\n",
       "        17, 18, 19, 20, 21, 22, 23, 24, 25, 26, 27, 28, 29]),\n",
       " [Text(0, 0, '0.9'),\n",
       "  Text(1, 0, '1.9'),\n",
       "  Text(2, 0, '2.0'),\n",
       "  Text(3, 0, '2.4'),\n",
       "  Text(4, 0, '2.7'),\n",
       "  Text(5, 0, '2.8'),\n",
       "  Text(6, 0, '2.9'),\n",
       "  Text(7, 0, '3.0'),\n",
       "  Text(8, 0, '3.2'),\n",
       "  Text(9, 0, '3.4'),\n",
       "  Text(10, 0, '3.5'),\n",
       "  Text(11, 0, '3.6'),\n",
       "  Text(12, 0, '3.7'),\n",
       "  Text(13, 0, '3.8'),\n",
       "  Text(14, 0, '3.9'),\n",
       "  Text(15, 0, '4.0'),\n",
       "  Text(16, 0, '4.1'),\n",
       "  Text(17, 0, '4.2'),\n",
       "  Text(18, 0, '4.4'),\n",
       "  Text(19, 0, '4.5'),\n",
       "  Text(20, 0, '4.6'),\n",
       "  Text(21, 0, '4.7'),\n",
       "  Text(22, 0, '4.8'),\n",
       "  Text(23, 0, '5.0'),\n",
       "  Text(24, 0, '5.1'),\n",
       "  Text(25, 0, '5.3'),\n",
       "  Text(26, 0, '5.6'),\n",
       "  Text(27, 0, '6.3'),\n",
       "  Text(28, 0, '6.7'),\n",
       "  Text(29, 0, '7.0')])"
      ]
     },
     "execution_count": 20,
     "metadata": {},
     "output_type": "execute_result"
    },
    {
     "data": {
      "image/png": "[encoded data removed]",
      "text/plain": [
       "<Figure size 432x288 with 1 Axes>"
      ]
     },
     "metadata": {
      "needs_background": "light"
     },
     "output_type": "display_data"
    }
   ],
   "source": [
    "sns.barplot(train['op_area'],train['num_orders'])\n",
    "plt.xticks(rotation = '90')"
   ]
  },
  {
   "cell_type": "code",
   "execution_count": 21,
   "id": "9c73302a",
   "metadata": {},
   "outputs": [
    {
     "name": "stderr",
     "output_type": "stream",
     "text": [
      "C:\\Users\\SRAVA\\anaconda3\\lib\\site-packages\\seaborn\\_decorators.py:36: FutureWarning: Pass the following variables as keyword args: x, y. From version 0.12, the only valid positional argument will be `data`, and passing other arguments without an explicit keyword will result in an error or misinterpretation.\n",
      "  warnings.warn(\n"
     ]
    },
    {
     "data": {
      "text/plain": [
       "(array([400., 450., 500., 550., 600., 650., 700., 750.]),\n",
       " [Text(0, 0, ''),\n",
       "  Text(0, 0, ''),\n",
       "  Text(0, 0, ''),\n",
       "  Text(0, 0, ''),\n",
       "  Text(0, 0, ''),\n",
       "  Text(0, 0, ''),\n",
       "  Text(0, 0, ''),\n",
       "  Text(0, 0, '')])"
      ]
     },
     "execution_count": 21,
     "metadata": {},
     "output_type": "execute_result"
    },
    {
     "data": {
      "image/png": "[encoded data removed]",
      "text/plain": [
       "<Figure size 432x288 with 1 Axes>"
      ]
     },
     "metadata": {
      "needs_background": "light"
     },
     "output_type": "display_data"
    }
   ],
   "source": [
    "sns.lineplot(train['city_code'],train['num_orders'])\n",
    "plt.xticks(rotation = '90')"
   ]
  },
  {
   "cell_type": "code",
   "execution_count": 22,
   "id": "b2a3d1a7",
   "metadata": {},
   "outputs": [
    {
     "data": {
      "text/plain": [
       "<AxesSubplot:xlabel='num_orders'>"
      ]
     },
     "execution_count": 22,
     "metadata": {},
     "output_type": "execute_result"
    },
    {
     "data": {
      "image/png": "[encoded data removed]",
      "text/plain": [
       "<Figure size 432x288 with 1 Axes>"
      ]
     },
     "metadata": {
      "needs_background": "light"
     },
     "output_type": "display_data"
    }
   ],
   "source": [
    "sns.boxplot(x='num_orders',data=train)"
   ]
  },
  {
   "cell_type": "code",
   "execution_count": 23,
   "id": "7ea74e9d",
   "metadata": {},
   "outputs": [
    {
     "data": {
      "text/plain": [
       "<AxesSubplot:xlabel='region_code'>"
      ]
     },
     "execution_count": 23,
     "metadata": {},
     "output_type": "execute_result"
    },
    {
     "data": {
      "image/png": "[encoded data removed]",
      "text/plain": [
       "<Figure size 432x288 with 1 Axes>"
      ]
     },
     "metadata": {
      "needs_background": "light"
     },
     "output_type": "display_data"
    }
   ],
   "source": [
    "sns.boxplot(x='region_code',data=train)"
   ]
  },
  {
   "cell_type": "code",
   "execution_count": 24,
   "id": "cd402bc7",
   "metadata": {},
   "outputs": [
    {
     "data": {
      "text/plain": [
       "<seaborn.axisgrid.JointGrid at 0x263a6a63490>"
      ]
     },
     "execution_count": 24,
     "metadata": {},
     "output_type": "execute_result"
    },
    {
     "data": {
      "image/png": "[encoded data removed]",
      "text/plain": [
       "<Figure size 432x432 with 3 Axes>"
      ]
     },
     "metadata": {
      "needs_background": "light"
     },
     "output_type": "display_data"
    }
   ],
   "source": [
    "sns.jointplot(x='checkout_price',y='num_orders',data=train)"
   ]
  },
  {
   "cell_type": "code",
   "execution_count": 25,
   "id": "d8921dbb",
   "metadata": {},
   "outputs": [
    {
     "data": {
      "text/plain": [
       "<seaborn.axisgrid.JointGrid at 0x263b37e4370>"
      ]
     },
     "execution_count": 25,
     "metadata": {},
     "output_type": "execute_result"
    },
    {
     "data": {
      "image/png": "[encoded data removed]",
      "text/plain": [
       "<Figure size 432x432 with 3 Axes>"
      ]
     },
     "metadata": {
      "needs_background": "light"
     },
     "output_type": "display_data"
    }
   ],
   "source": [
    "sns.jointplot(x='op_area',y='num_orders',data=train)"
   ]
  },
  {
   "cell_type": "code",
   "execution_count": 26,
   "id": "0c37c5a9",
   "metadata": {},
   "outputs": [
    {
     "data": {
      "text/plain": [
       "<seaborn.axisgrid.JointGrid at 0x263b402af40>"
      ]
     },
     "execution_count": 26,
     "metadata": {},
     "output_type": "execute_result"
    },
    {
     "data": {
      "image/png": "[encoded data removed]",
      "text/plain": [
       "<Figure size 432x432 with 3 Axes>"
      ]
     },
     "metadata": {
      "needs_background": "light"
     },
     "output_type": "display_data"
    }
   ],
   "source": [
    "sns.jointplot(x='region_code',y='num_orders',data=train)"
   ]
  },
  {
   "cell_type": "code",
   "execution_count": 27,
   "id": "12757c9d",
   "metadata": {},
   "outputs": [
    {
     "data": {
      "text/plain": [
       "<seaborn.axisgrid.JointGrid at 0x263bbe52490>"
      ]
     },
     "execution_count": 27,
     "metadata": {},
     "output_type": "execute_result"
    },
    {
     "data": {
      "image/png": "[encoded data removed]",
      "text/plain": [
       "<Figure size 432x432 with 3 Axes>"
      ]
     },
     "metadata": {
      "needs_background": "light"
     },
     "output_type": "display_data"
    }
   ],
   "source": [
    "sns.jointplot(x='city_code',y='num_orders',data=train)"
   ]
  },
  {
   "cell_type": "code",
   "execution_count": 28,
   "id": "0391dd47",
   "metadata": {},
   "outputs": [
    {
     "data": {
      "text/plain": [
       "(array([ 0,  1,  2,  3,  4,  5,  6,  7,  8,  9, 10, 11, 12, 13]),\n",
       " [Text(0, 0, 'Beverages'),\n",
       "  Text(1, 0, 'Rice Bowl'),\n",
       "  Text(2, 0, 'Starters'),\n",
       "  Text(3, 0, 'Pasta'),\n",
       "  Text(4, 0, 'Sandwich'),\n",
       "  Text(5, 0, 'Biryani'),\n",
       "  Text(6, 0, 'Extras'),\n",
       "  Text(7, 0, 'Pizza'),\n",
       "  Text(8, 0, 'Seafood'),\n",
       "  Text(9, 0, 'Other Snacks'),\n",
       "  Text(10, 0, 'Desert'),\n",
       "  Text(11, 0, 'Salad'),\n",
       "  Text(12, 0, 'Fish'),\n",
       "  Text(13, 0, 'Soup')])"
      ]
     },
     "execution_count": 28,
     "metadata": {},
     "output_type": "execute_result"
    },
    {
     "data": {
      "image/png": "[encoded data removed]",
      "text/plain": [
       "<Figure size 432x288 with 1 Axes>"
      ]
     },
     "metadata": {
      "needs_background": "light"
     },
     "output_type": "display_data"
    }
   ],
   "source": [
    "sns.boxplot(x='category',y='num_orders',data=train)\n",
    "plt.xticks(rotation=90)"
   ]
  },
  {
   "cell_type": "code",
   "execution_count": 29,
   "id": "d6f89e3c",
   "metadata": {},
   "outputs": [
    {
     "data": {
      "text/plain": [
       "(array([0, 1, 2, 3]),\n",
       " [Text(0, 0, 'Thai'),\n",
       "  Text(1, 0, 'Indian'),\n",
       "  Text(2, 0, 'Italian'),\n",
       "  Text(3, 0, 'Continental')])"
      ]
     },
     "execution_count": 29,
     "metadata": {},
     "output_type": "execute_result"
    },
    {
     "data": {
      "image/png": "[encoded data removed]",
      "text/plain": [
       "<Figure size 432x288 with 1 Axes>"
      ]
     },
     "metadata": {
      "needs_background": "light"
     },
     "output_type": "display_data"
    }
   ],
   "source": [
    "sns.boxplot(x='cuisine',y='num_orders',data=train)\n",
    "plt.xticks(rotation=90)"
   ]
  },
  {
   "cell_type": "code",
   "execution_count": 30,
   "id": "6fe08389",
   "metadata": {},
   "outputs": [
    {
     "data": {
      "text/plain": [
       "<seaborn.axisgrid.JointGrid at 0x263c05f2b80>"
      ]
     },
     "execution_count": 30,
     "metadata": {},
     "output_type": "execute_result"
    },
    {
     "data": {
      "image/png": "[encoded data removed]",
      "text/plain": [
       "<Figure size 432x432 with 3 Axes>"
      ]
     },
     "metadata": {
      "needs_background": "light"
     },
     "output_type": "display_data"
    }
   ],
   "source": [
    "sns.jointplot(x='center_id',y='num_orders',data=train)"
   ]
  },
  {
   "cell_type": "code",
   "execution_count": 31,
   "id": "16d150ca",
   "metadata": {},
   "outputs": [
    {
     "name": "stdout",
     "output_type": "stream",
     "text": [
      "Total number of centers :  77\n"
     ]
    }
   ],
   "source": [
    "print(\"Total number of centers : \",train['center_id'].nunique())"
   ]
  },
  {
   "cell_type": "code",
   "execution_count": 32,
   "id": "73120c56",
   "metadata": {},
   "outputs": [
    {
     "name": "stdout",
     "output_type": "stream",
     "text": [
      "Total Number of cities:  51\n"
     ]
    }
   ],
   "source": [
    "print(\"Total Number of cities: \",train['city_code'].nunique())"
   ]
  },
  {
   "cell_type": "code",
   "execution_count": 33,
   "id": "37034133",
   "metadata": {},
   "outputs": [
    {
     "name": "stdout",
     "output_type": "stream",
     "text": [
      "Total Number of cities:  51\n"
     ]
    }
   ],
   "source": [
    "print(\"Total Number of cities: \",train['city_code'].nunique())"
   ]
  },
  {
   "cell_type": "code",
   "execution_count": 34,
   "id": "72696f20",
   "metadata": {},
   "outputs": [
    {
     "data": {
      "image/png": "[encoded data removed]",
      "text/plain": [
       "<Figure size 360x576 with 1 Axes>"
      ]
     },
     "metadata": {
      "needs_background": "light"
     },
     "output_type": "display_data"
    }
   ],
   "source": [
    "fig, ax = plt.subplots(figsize=(5,8))\n",
    "sns.countplot(y = train['category'], hue = train['cuisine'], ax=ax)\n",
    "plt.show()"
   ]
  },
  {
   "cell_type": "code",
   "execution_count": 35,
   "id": "d2abd79a",
   "metadata": {},
   "outputs": [
    {
     "name": "stdout",
     "output_type": "stream",
     "text": [
      "There are 3597 center-meal pairs in train data\n"
     ]
    }
   ],
   "source": [
    "center_meal_train = (train['center_id'].astype(str) + \"_\" + train['meal_id'].astype(str)).unique()\n",
    "print(\"There are\", len(center_meal_train),\"center-meal pairs in train data\")"
   ]
  },
  {
   "cell_type": "code",
   "execution_count": 36,
   "id": "e4d62121",
   "metadata": {},
   "outputs": [
    {
     "name": "stdout",
     "output_type": "stream",
     "text": [
      "There are 3548 center-meal pairs in train data\n"
     ]
    }
   ],
   "source": [
    "center_meal_test = (test['center_id'].astype(str) + \"_\" + test['meal_id'].astype(str)).unique()\n",
    "print(\"There are\", len(center_meal_test),\"center-meal pairs in train data\")"
   ]
  },
  {
   "cell_type": "code",
   "execution_count": 37,
   "id": "548389d9",
   "metadata": {},
   "outputs": [
    {
     "name": "stdout",
     "output_type": "stream",
     "text": [
      "There are 3 New center-meal pairs in test dataset which are not present in train dataset\n",
      "{'73_1571', '92_2104', '73_2956'}\n"
     ]
    }
   ],
   "source": [
    "print(\"There are\",len(set(center_meal_test) - set(center_meal_train)),\"New center-meal pairs in test dataset which are not present in train dataset\")\n",
    "print(set(center_meal_test) - set(center_meal_train))"
   ]
  },
  {
   "cell_type": "code",
   "execution_count": 38,
   "id": "c25080d9",
   "metadata": {},
   "outputs": [
    {
     "data": {
      "text/plain": [
       "11"
      ]
     },
     "execution_count": 38,
     "metadata": {},
     "output_type": "execute_result"
    }
   ],
   "source": [
    "test[(test['center_id']==73) & (test['meal_id'].isin([2956, 1571]))].shape[0]"
   ]
  },
  {
   "cell_type": "code",
   "execution_count": 39,
   "id": "bf97dbc7",
   "metadata": {},
   "outputs": [
    {
     "data": {
      "text/plain": [
       "2"
      ]
     },
     "execution_count": 39,
     "metadata": {},
     "output_type": "execute_result"
    }
   ],
   "source": [
    "test[(test['center_id']==92) & (test['meal_id'].isin([2104]))].shape[0]"
   ]
  },
  {
   "cell_type": "markdown",
   "id": "e4f06664",
   "metadata": {},
   "source": [
    "There should be 77*51 = 3927 center-meal pair, but we have 3597 pairs in train data, that means some centers did not sell some of the meals.\n",
    "\n",
    "There should be 3597*145 = 521565 records in past 145 week data, but we have 456548 records. which means some centers did not sell some meal for some week or they stared selling some new type of meal after some weeks. Same with test data.\n",
    "\n",
    "Test set has only 3548 center-meal pair, that means some of the centers did not sell some type of meals in this 10 week.\n",
    "\n",
    "Here in the test set (future 10 week), center 73 started selling meal 2956 & 1571, center 92 started selling meal 2104, which they have never sold in last 145 weeks. There are only 13 records with unknown center-meal pair in test set."
   ]
  },
  {
   "cell_type": "markdown",
   "id": "1b655211",
   "metadata": {},
   "source": [
    "## Removing outliers "
   ]
  },
  {
   "cell_type": "code",
   "execution_count": 40,
   "id": "be58508a",
   "metadata": {},
   "outputs": [],
   "source": [
    "outlier_index = train[(train['num_orders']>15000)].index"
   ]
  },
  {
   "cell_type": "code",
   "execution_count": 41,
   "id": "7fce1ebe",
   "metadata": {},
   "outputs": [],
   "source": [
    "train.drop(outlier_index,inplace = True)"
   ]
  },
  {
   "cell_type": "markdown",
   "id": "f599db75",
   "metadata": {},
   "source": [
    "## Feature engineering"
   ]
  },
  {
   "cell_type": "code",
   "execution_count": 98,
   "id": "ac7e4c76",
   "metadata": {},
   "outputs": [],
   "source": [
    "train['train_or_test'] = 'train'\n",
    "test['train_or_test'] = 'test'"
   ]
  },
  {
   "cell_type": "code",
   "execution_count": 99,
   "id": "5bea7cce",
   "metadata": {},
   "outputs": [],
   "source": [
    "train['num_orders'] = np.log1p(train['num_orders'])"
   ]
  },
  {
   "cell_type": "code",
   "execution_count": 100,
   "id": "78110ddb",
   "metadata": {},
   "outputs": [],
   "source": [
    "total_data = train.append(test).reset_index(drop=True)[train.columns]"
   ]
  },
  {
   "cell_type": "code",
   "execution_count": 101,
   "id": "87aa7de2",
   "metadata": {},
   "outputs": [],
   "source": [
    "total_data = total_data.sort_values(['center_id', 'meal_id', 'week']).reset_index(drop=True)"
   ]
  },
  {
   "cell_type": "code",
   "execution_count": 102,
   "id": "8b0f5b0b",
   "metadata": {},
   "outputs": [],
   "source": [
    "total_data['checkout_price'] = np.log1p(total_data['checkout_price'])\n",
    "total_data['base_price'] = np.log1p(total_data['base_price'])"
   ]
  },
  {
   "cell_type": "code",
   "execution_count": 103,
   "id": "d445bb1c",
   "metadata": {},
   "outputs": [],
   "source": [
    "total_data['discount_on_base'] = (total_data['base_price'] - total_data['checkout_price']) / total_data['base_price']"
   ]
  },
  {
   "cell_type": "code",
   "execution_count": 104,
   "id": "b684fb37",
   "metadata": {},
   "outputs": [],
   "source": [
    "total_data[\"discount_ratio\"] = total_data[\"base_price\"] / total_data[\"checkout_price\"]"
   ]
  },
  {
   "cell_type": "code",
   "execution_count": 49,
   "id": "0bbba0ce",
   "metadata": {},
   "outputs": [
    {
     "name": "stderr",
     "output_type": "stream",
     "text": [
      "C:\\Users\\SRAVA\\anaconda3\\lib\\site-packages\\seaborn\\distributions.py:2557: FutureWarning: `distplot` is a deprecated function and will be removed in a future version. Please adapt your code to use either `displot` (a figure-level function with similar flexibility) or `histplot` (an axes-level function for histograms).\n",
      "  warnings.warn(msg, FutureWarning)\n"
     ]
    },
    {
     "data": {
      "image/png": "[encoded data removed]",
      "text/plain": [
       "<Figure size 432x288 with 1 Axes>"
      ]
     },
     "metadata": {
      "needs_background": "light"
     },
     "output_type": "display_data"
    }
   ],
   "source": [
    "sns.distplot(total_data['discount_on_base'], bins=500)\n",
    "plt.show()"
   ]
  },
  {
   "cell_type": "code",
   "execution_count": 50,
   "id": "e788ecba",
   "metadata": {},
   "outputs": [],
   "source": [
    "total_data['price_last_curr_diff'] = (total_data['checkout_price'].shift(1) - total_data['checkout_price']).fillna(1)/ total_data['checkout_price'].shift(1).fillna(1)"
   ]
  },
  {
   "cell_type": "code",
   "execution_count": 51,
   "id": "c0ff8fbb",
   "metadata": {},
   "outputs": [],
   "source": [
    "for _, r in total_data.groupby(['center_id', 'meal_id'])['week'].first().reset_index().iterrows():\n",
    "    total_data.loc[(total_data['center_id']==r['center_id']) & (total_data['meal_id']==r['meal_id']) & (total_data['week']==r['week']), 'price_last_curr_diff'] = total_data[(total_data['center_id']==r['center_id']) & (total_data['meal_id']==r['meal_id']) & (total_data['week']!=r['week'])]['price_last_curr_diff'].mean()\n",
    "total_data['price_last_curr_diff'] = total_data['price_last_curr_diff'].fillna(0)"
   ]
  },
  {
   "cell_type": "code",
   "execution_count": 105,
   "id": "c6ed5d0e",
   "metadata": {},
   "outputs": [],
   "source": [
    "# Features constructed from previous sales values\n",
    "\n",
    "#Creating sales lag features\n",
    "def create_sales_lag_feats(df, gpby_cols, target_col, lags):\n",
    "    gpby = df.groupby(gpby_cols)\n",
    "    for i in lags:\n",
    "        df['_'.join([target_col, 'lag', str(i)])] = \\\n",
    "                gpby[target_col].shift(i).values + np.random.normal(scale=1.6, size=(len(df),))\n",
    "    return df\n",
    "\n",
    "# Creating sales exponentially weighted mean features\n",
    "def create_sales_ewm_feats(df, gpby_cols, target_col, alpha=[0.9], shift=[1]):\n",
    "    gpby = df.groupby(gpby_cols)\n",
    "    for a in alpha:\n",
    "        for s in shift:\n",
    "            df['_'.join([target_col, 'lag', str(s), 'ewm', str(a)])] = \\\n",
    "                gpby[target_col].shift(s).ewm(alpha=a).mean().values\n",
    "    return df"
   ]
  },
  {
   "cell_type": "code",
   "execution_count": 106,
   "id": "9bae62bc",
   "metadata": {},
   "outputs": [],
   "source": [
    "# Creating num_orders lag, rolling mean, rolling median, ohe features of the above train set\n",
    "total_data = create_sales_lag_feats(total_data, gpby_cols=['center_id','meal_id'], target_col='num_orders', \n",
    "                               lags=[10,11, 12])\n",
    "\n",
    "total_data = create_sales_ewm_feats(total_data, gpby_cols=['center_id','meal_id'], \n",
    "                               target_col='num_orders', \n",
    "                               alpha=[0.5], \n",
    "                               shift=[10,11,12,13,14,15])"
   ]
  },
  {
   "cell_type": "code",
   "execution_count": 107,
   "id": "7f200374",
   "metadata": {},
   "outputs": [],
   "source": [
    "total_data.head()\n",
    "total_data.to_csv('total_data.csv', index = False)"
   ]
  },
  {
   "cell_type": "code",
   "execution_count": 55,
   "id": "0ac147df",
   "metadata": {},
   "outputs": [],
   "source": [
    "### Center count features ###\n",
    "gdf = total_data.groupby([\"center_id\", \"week\"])[\"id\"].agg(['size']).reset_index()\n",
    "gdf.columns = [\"center_id\", \"week\", \"center_week_count\"]\n",
    "total_data = pd.merge(total_data,gdf, on=[\"center_id\", \"week\"], how=\"left\")\n",
    "\n",
    "gdf = total_data.groupby([\"center_id\", \"category\"])[\"id\"].count().reset_index()\n",
    "gdf.columns = [\"center_id\", \"category\", \"center_cat_count\"]\n",
    "total_data = pd.merge(total_data,gdf, on=[\"center_id\", \"category\"], how=\"left\")\n",
    "\n",
    "gdf = total_data.groupby([\"center_id\", \"category\", \"week\"])[\"id\"].count().reset_index()\n",
    "gdf.columns = [\"center_id\", \"category\", \"week\", \"center_cat_week_count\"]\n",
    "total_data = pd.merge(total_data,gdf, on=[\"center_id\", \"category\", \"week\"], how=\"left\")\n",
    "\n",
    "gdf = total_data.groupby([\"center_id\", \"cuisine\"])[\"id\"].count().reset_index()\n",
    "gdf.columns = [\"center_id\", \"cuisine\", \"center_cui_count\"]\n",
    "total_data = pd.merge(total_data,gdf, on=[\"center_id\", \"cuisine\"], how=\"left\")"
   ]
  },
  {
   "cell_type": "code",
   "execution_count": 56,
   "id": "f94a0acc",
   "metadata": {},
   "outputs": [],
   "source": [
    "### Meal count features ###\n",
    "gdf = total_data.groupby([\"meal_id\"])[\"id\"].count().reset_index()\n",
    "gdf.columns = [\"meal_id\", \"meal_count\"]\n",
    "total_data = pd.merge(total_data,gdf, on=[\"meal_id\"], how=\"left\")\n",
    "\n",
    "gdf = total_data.groupby([\"region_code\", \"meal_id\"])[\"id\"].count().reset_index()\n",
    "gdf.columns = [\"region_code\", \"meal_id\", \"region_meal_count\"]\n",
    "total_data= pd.merge(total_data,gdf, on=[\"region_code\", \"meal_id\"], how=\"left\")\n",
    "\n",
    "gdf = total_data.groupby([\"meal_id\", \"week\"])[\"id\"].count().reset_index()\n",
    "gdf.columns = [\"meal_id\", \"week\", \"meal_week_count\"]\n",
    "total_data = pd.merge(total_data,gdf, on=[\"meal_id\", \"week\"], how=\"left\")\n",
    "\n",
    "gdf =total_data.groupby([\"center_type\", \"meal_id\", \"week\"])[\"id\"].count().reset_index()\n",
    "gdf.columns = [\"center_type\", \"meal_id\", \"week\", \"type_meal_week_count\"]\n",
    "total_data = pd.merge(total_data,gdf, on=[\"center_type\", \"meal_id\", \"week\"], how=\"left\")\n",
    "\n",
    "gdf = total_data.groupby([\"region_code\", \"meal_id\", \"week\"])[\"id\"].count().reset_index()\n",
    "gdf.columns = [\"region_code\", \"meal_id\", \"week\", \"region_meal_week_count\"]\n",
    "total_data = pd.merge(total_data,gdf, on=[\"region_code\", \"meal_id\", \"week\"], how=\"left\")\n",
    "\n",
    "gdf =total_data.groupby([\"city_code\", \"meal_id\", \"week\"])[\"id\"].count().reset_index()\n",
    "gdf.columns = [\"city_code\", \"meal_id\", \"week\", \"city_meal_week_count\"]\n",
    "total_data = pd.merge(total_data,gdf, on=[\"city_code\", \"meal_id\", \"week\"], how=\"left\")"
   ]
  },
  {
   "cell_type": "code",
   "execution_count": 57,
   "id": "337a5f4a",
   "metadata": {},
   "outputs": [],
   "source": [
    "### Price rank ###\n",
    "total_data[\"meal_price_rank\"] = total_data.groupby(\"meal_id\")[\"checkout_price\"].rank()\n",
    "total_data[\"meal_city_price_rank\"] =total_data.groupby([\"meal_id\", \"city_code\"])[\"checkout_price\"].rank()\n",
    "total_data[\"meal_region_price_rank\"] = total_data.groupby([\"meal_id\", \"region_code\"])[\"checkout_price\"].rank()\n",
    "total_data[\"meal_week_price_rank\"] = total_data.groupby([\"meal_id\", \"week\"])[\"checkout_price\"].rank()\n",
    "\n",
    "total_data[\"center_price_rank\"] = total_data.groupby(\"center_id\")[\"checkout_price\"].rank()\n",
    "total_data[\"center_week_price_rank\"] = total_data.groupby([\"center_id\", \"week\"])[\"checkout_price\"].rank()\n",
    "total_data[\"center_cat_price_rank\"] = total_data.groupby([\"center_id\", \"category\"])[\"checkout_price\"].rank()"
   ]
  },
  {
   "cell_type": "code",
   "execution_count": 58,
   "id": "2c74348e",
   "metadata": {},
   "outputs": [],
   "source": [
    "### Week features ###\n",
    "gdf = total_data.groupby([\"meal_id\"])[\"checkout_price\"].agg([\"min\", \"max\", \"mean\", \"std\"]).reset_index()\n",
    "gdf.columns = [\"meal_id\", \"meal_price_min\", \"meal_price_max\", \"meal_price_mean\", \"meal_price_std\"]\n",
    "total_data = pd.merge(total_data,gdf, on=[\"meal_id\"], how=\"left\")\n",
    "\n",
    "gdf = total_data.groupby([\"meal_id\"])[\"base_price\"].agg([\"min\", \"max\", \"mean\", \"std\"]).reset_index()\n",
    "gdf.columns = [\"meal_id\", \"disc_price_min\", \"disc_price_max\", \"disc_price_mean\", \"disc_price_std\"]\n",
    "total_data = pd.merge(total_data,gdf, on=[\"meal_id\"], how=\"left\")\n",
    "\n",
    "gdf = total_data.groupby([\"city_code\",\"meal_id\", \"week\"])[\"checkout_price\"].agg([\"min\", \"max\", \"mean\", \"std\"]).reset_index()\n",
    "gdf.columns = [\"city_code\", \"meal_id\", \"week\", \"meal_price2_min\", \"meal_price2_max\", \"meal_price2_mean\", \"meal_price2_std\"]\n",
    "total_data= pd.merge(total_data,gdf, on=[\"city_code\", \"meal_id\", \"week\"], how=\"left\")\n",
    "\n",
    "gdf = total_data.groupby([\"city_code\", \"category\"])[\"checkout_price\"].agg([\"mean\", \"std\"]).reset_index()\n",
    "gdf.columns = [\"city_code\", \"category\", \"meal_price3_mean\", \"meal_price3_std\"]\n",
    "total_datal = pd.merge(total_data,gdf, on=[\"city_code\", \"category\"], how=\"left\")"
   ]
  },
  {
   "cell_type": "code",
   "execution_count": 59,
   "id": "2cf96d06",
   "metadata": {},
   "outputs": [
    {
     "name": "stderr",
     "output_type": "stream",
     "text": [
      "<ipython-input-59-97a8b683f7d6>:1: DeprecationWarning: `np.object` is a deprecated alias for the builtin `object`. To silence this warning, use `object` by itself. Doing this will not modify any behavior and is safe. \n",
      "Deprecated in NumPy 1.20; for more details and guidance: https://numpy.org/devdocs/release/1.20.0-notes.html#deprecations\n",
      "  total_data['center_id'] = total_data['center_id'].astype(np.object)\n",
      "<ipython-input-59-97a8b683f7d6>:2: DeprecationWarning: `np.object` is a deprecated alias for the builtin `object`. To silence this warning, use `object` by itself. Doing this will not modify any behavior and is safe. \n",
      "Deprecated in NumPy 1.20; for more details and guidance: https://numpy.org/devdocs/release/1.20.0-notes.html#deprecations\n",
      "  total_data['meal_id'] = total_data['meal_id'].astype(np.object)\n",
      "<ipython-input-59-97a8b683f7d6>:3: DeprecationWarning: `np.object` is a deprecated alias for the builtin `object`. To silence this warning, use `object` by itself. Doing this will not modify any behavior and is safe. \n",
      "Deprecated in NumPy 1.20; for more details and guidance: https://numpy.org/devdocs/release/1.20.0-notes.html#deprecations\n",
      "  total_data['region_code'] = total_data['region_code'].astype(np.object)\n",
      "<ipython-input-59-97a8b683f7d6>:4: DeprecationWarning: `np.object` is a deprecated alias for the builtin `object`. To silence this warning, use `object` by itself. Doing this will not modify any behavior and is safe. \n",
      "Deprecated in NumPy 1.20; for more details and guidance: https://numpy.org/devdocs/release/1.20.0-notes.html#deprecations\n",
      "  total_datal['city_code'] = total_data['city_code'].astype(np.object)\n"
     ]
    }
   ],
   "source": [
    "total_data['center_id'] = total_data['center_id'].astype(np.object)\n",
    "total_data['meal_id'] = total_data['meal_id'].astype(np.object)\n",
    "total_data['region_code'] = total_data['region_code'].astype(np.object)\n",
    "total_datal['city_code'] = total_data['city_code'].astype(np.object)"
   ]
  },
  {
   "cell_type": "code",
   "execution_count": 60,
   "id": "5ff2a5c5",
   "metadata": {},
   "outputs": [],
   "source": [
    "train_data = total_data.loc[total_data['train_or_test']=='train', :]\n",
    "test_data = total_data.loc[total_data['train_or_test']=='test', :]"
   ]
  },
  {
   "cell_type": "code",
   "execution_count": 108,
   "id": "4a9f4b07",
   "metadata": {},
   "outputs": [],
   "source": [
    "center_meal_mean = train_data.groupby(['center_id','meal_id'])['num_orders'].mean()\n",
    "center_meal_mean = center_meal_mean.reset_index()\n",
    "center_meal_mean = center_meal_mean.rename(columns={'num_orders':'avg_orders'})\n",
    "train_data = pd.merge(train_data,center_meal_mean, how='left', left_on=['center_id','meal_id'], right_on = ['center_id','meal_id'])\n",
    "test_data = pd.merge(test_data,center_meal_mean, how='left', left_on=['center_id','meal_id'], right_on = ['center_id','meal_id'])\n",
    "center_mean = train_data.groupby('center_id')['num_orders'].mean()\n",
    "center_mean = center_mean.reset_index()\n",
    "center_mean = center_mean.rename(columns={'num_orders':'avg_center'})\n",
    "train_data = pd.merge(train_data,center_mean, how='left', left_on=['center_id'], right_on = ['center_id'])\n",
    "test_data = pd.merge(test_data,center_mean, how='left', left_on=['center_id'], right_on = ['center_id'])\n",
    "meal_mean = train_data.groupby('meal_id')['num_orders'].mean()\n",
    "meal_mean = meal_mean.reset_index()\n",
    "meal_mean = meal_mean.rename(columns={'num_orders':'avg_meal'})\n",
    "train_data = pd.merge(train_data, meal_mean,how='left',left_on=['meal_id'], right_on = ['meal_id'])\n",
    "test_data = pd.merge(test_data, meal_mean,how='left',left_on=['meal_id'], right_on = ['meal_id'])"
   ]
  },
  {
   "cell_type": "code",
   "execution_count": 62,
   "id": "a0e0a1b4",
   "metadata": {},
   "outputs": [
    {
     "name": "stdout",
     "output_type": "stream",
     "text": [
      "<class 'pandas.core.frame.DataFrame'>\n",
      "Int64Index: 456546 entries, 0 to 456545\n",
      "Data columns (total 60 columns):\n",
      " #   Column                     Non-Null Count   Dtype  \n",
      "---  ------                     --------------   -----  \n",
      " 0   id                         456546 non-null  int64  \n",
      " 1   week                       456546 non-null  int64  \n",
      " 2   center_id                  456546 non-null  object \n",
      " 3   meal_id                    456546 non-null  object \n",
      " 4   checkout_price             456546 non-null  float64\n",
      " 5   base_price                 456546 non-null  float64\n",
      " 6   emailer_for_promotion      456546 non-null  int64  \n",
      " 7   homepage_featured          456546 non-null  int64  \n",
      " 8   num_orders                 456546 non-null  float64\n",
      " 9   city_code                  456546 non-null  int64  \n",
      " 10  region_code                456546 non-null  object \n",
      " 11  center_type                456546 non-null  object \n",
      " 12  op_area                    456546 non-null  float64\n",
      " 13  category                   456546 non-null  object \n",
      " 14  cuisine                    456546 non-null  object \n",
      " 15  train_or_test              456546 non-null  object \n",
      " 16  discount_on_base           456546 non-null  float64\n",
      " 17  discount_ratio             456546 non-null  float64\n",
      " 18  price_last_curr_diff       456546 non-null  float64\n",
      " 19  num_orders_lag_10          420703 non-null  float64\n",
      " 20  num_orders_lag_11          417134 non-null  float64\n",
      " 21  num_orders_lag_12          413566 non-null  float64\n",
      " 22  num_orders_lag_10_ewm_0.5  456536 non-null  float64\n",
      " 23  num_orders_lag_11_ewm_0.5  456535 non-null  float64\n",
      " 24  num_orders_lag_12_ewm_0.5  456534 non-null  float64\n",
      " 25  num_orders_lag_13_ewm_0.5  456533 non-null  float64\n",
      " 26  num_orders_lag_14_ewm_0.5  456532 non-null  float64\n",
      " 27  num_orders_lag_15_ewm_0.5  456531 non-null  float64\n",
      " 28  center_week_count          456546 non-null  int64  \n",
      " 29  center_cat_count           456546 non-null  int64  \n",
      " 30  center_cat_week_count      456546 non-null  int64  \n",
      " 31  center_cui_count           456546 non-null  int64  \n",
      " 32  meal_count                 456546 non-null  int64  \n",
      " 33  region_meal_count          456546 non-null  int64  \n",
      " 34  meal_week_count            456546 non-null  int64  \n",
      " 35  type_meal_week_count       456546 non-null  int64  \n",
      " 36  region_meal_week_count     456546 non-null  int64  \n",
      " 37  city_meal_week_count       456546 non-null  int64  \n",
      " 38  meal_price_rank            456546 non-null  float64\n",
      " 39  meal_city_price_rank       456546 non-null  float64\n",
      " 40  meal_region_price_rank     456546 non-null  float64\n",
      " 41  meal_week_price_rank       456546 non-null  float64\n",
      " 42  center_price_rank          456546 non-null  float64\n",
      " 43  center_week_price_rank     456546 non-null  float64\n",
      " 44  center_cat_price_rank      456546 non-null  float64\n",
      " 45  meal_price_min             456546 non-null  float64\n",
      " 46  meal_price_max             456546 non-null  float64\n",
      " 47  meal_price_mean            456546 non-null  float64\n",
      " 48  meal_price_std             456546 non-null  float64\n",
      " 49  disc_price_min             456546 non-null  float64\n",
      " 50  disc_price_max             456546 non-null  float64\n",
      " 51  disc_price_mean            456546 non-null  float64\n",
      " 52  disc_price_std             456546 non-null  float64\n",
      " 53  meal_price2_min            456546 non-null  float64\n",
      " 54  meal_price2_max            456546 non-null  float64\n",
      " 55  meal_price2_mean           456546 non-null  float64\n",
      " 56  meal_price2_std            216267 non-null  float64\n",
      " 57  avg_orders                 456546 non-null  float64\n",
      " 58  avg_center                 456546 non-null  float64\n",
      " 59  avg_meal                   456546 non-null  float64\n",
      "dtypes: float64(38), int64(15), object(7)\n",
      "memory usage: 212.5+ MB\n"
     ]
    }
   ],
   "source": [
    "train_data.info()\n",
    "train_data.to_csv('total_data.csv', index = False)"
   ]
  },
  {
   "cell_type": "code",
   "execution_count": 63,
   "id": "0226929f",
   "metadata": {},
   "outputs": [
    {
     "name": "stdout",
     "output_type": "stream",
     "text": [
      "<class 'pandas.core.frame.DataFrame'>\n",
      "Int64Index: 32573 entries, 0 to 32572\n",
      "Data columns (total 60 columns):\n",
      " #   Column                     Non-Null Count  Dtype  \n",
      "---  ------                     --------------  -----  \n",
      " 0   id                         32573 non-null  int64  \n",
      " 1   week                       32573 non-null  int64  \n",
      " 2   center_id                  32573 non-null  object \n",
      " 3   meal_id                    32573 non-null  object \n",
      " 4   checkout_price             32573 non-null  float64\n",
      " 5   base_price                 32573 non-null  float64\n",
      " 6   emailer_for_promotion      32573 non-null  int64  \n",
      " 7   homepage_featured          32573 non-null  int64  \n",
      " 8   num_orders                 0 non-null      float64\n",
      " 9   city_code                  32573 non-null  int64  \n",
      " 10  region_code                32573 non-null  object \n",
      " 11  center_type                32573 non-null  object \n",
      " 12  op_area                    32573 non-null  float64\n",
      " 13  category                   32573 non-null  object \n",
      " 14  cuisine                    32573 non-null  object \n",
      " 15  train_or_test              32573 non-null  object \n",
      " 16  discount_on_base           32573 non-null  float64\n",
      " 17  discount_ratio             32573 non-null  float64\n",
      " 18  price_last_curr_diff       32573 non-null  float64\n",
      " 19  num_orders_lag_10          32539 non-null  float64\n",
      " 20  num_orders_lag_11          32536 non-null  float64\n",
      " 21  num_orders_lag_12          32533 non-null  float64\n",
      " 22  num_orders_lag_10_ewm_0.5  32573 non-null  float64\n",
      " 23  num_orders_lag_11_ewm_0.5  32573 non-null  float64\n",
      " 24  num_orders_lag_12_ewm_0.5  32573 non-null  float64\n",
      " 25  num_orders_lag_13_ewm_0.5  32573 non-null  float64\n",
      " 26  num_orders_lag_14_ewm_0.5  32573 non-null  float64\n",
      " 27  num_orders_lag_15_ewm_0.5  32573 non-null  float64\n",
      " 28  center_week_count          32573 non-null  int64  \n",
      " 29  center_cat_count           32573 non-null  int64  \n",
      " 30  center_cat_week_count      32573 non-null  int64  \n",
      " 31  center_cui_count           32573 non-null  int64  \n",
      " 32  meal_count                 32573 non-null  int64  \n",
      " 33  region_meal_count          32573 non-null  int64  \n",
      " 34  meal_week_count            32573 non-null  int64  \n",
      " 35  type_meal_week_count       32573 non-null  int64  \n",
      " 36  region_meal_week_count     32573 non-null  int64  \n",
      " 37  city_meal_week_count       32573 non-null  int64  \n",
      " 38  meal_price_rank            32573 non-null  float64\n",
      " 39  meal_city_price_rank       32573 non-null  float64\n",
      " 40  meal_region_price_rank     32573 non-null  float64\n",
      " 41  meal_week_price_rank       32573 non-null  float64\n",
      " 42  center_price_rank          32573 non-null  float64\n",
      " 43  center_week_price_rank     32573 non-null  float64\n",
      " 44  center_cat_price_rank      32573 non-null  float64\n",
      " 45  meal_price_min             32573 non-null  float64\n",
      " 46  meal_price_max             32573 non-null  float64\n",
      " 47  meal_price_mean            32573 non-null  float64\n",
      " 48  meal_price_std             32573 non-null  float64\n",
      " 49  disc_price_min             32573 non-null  float64\n",
      " 50  disc_price_max             32573 non-null  float64\n",
      " 51  disc_price_mean            32573 non-null  float64\n",
      " 52  disc_price_std             32573 non-null  float64\n",
      " 53  meal_price2_min            32573 non-null  float64\n",
      " 54  meal_price2_max            32573 non-null  float64\n",
      " 55  meal_price2_mean           32573 non-null  float64\n",
      " 56  meal_price2_std            15528 non-null  float64\n",
      " 57  avg_orders                 32560 non-null  float64\n",
      " 58  avg_center                 32573 non-null  float64\n",
      " 59  avg_meal                   32573 non-null  float64\n",
      "dtypes: float64(38), int64(15), object(7)\n",
      "memory usage: 15.2+ MB\n"
     ]
    }
   ],
   "source": [
    "test_data.info()"
   ]
  },
  {
   "cell_type": "code",
   "execution_count": 64,
   "id": "a6a3725c",
   "metadata": {},
   "outputs": [],
   "source": [
    "avoid_column = ['id', 'num_orders', 'train_or_test']"
   ]
  },
  {
   "cell_type": "code",
   "execution_count": 65,
   "id": "29a520d3",
   "metadata": {},
   "outputs": [],
   "source": [
    "features = [col for col in test_data.columns if col not in avoid_column]"
   ]
  },
  {
   "cell_type": "code",
   "execution_count": 66,
   "id": "82493367",
   "metadata": {},
   "outputs": [
    {
     "data": {
      "text/plain": [
       "['week',\n",
       " 'center_id',\n",
       " 'meal_id',\n",
       " 'checkout_price',\n",
       " 'base_price',\n",
       " 'emailer_for_promotion',\n",
       " 'homepage_featured',\n",
       " 'city_code',\n",
       " 'region_code',\n",
       " 'center_type',\n",
       " 'op_area',\n",
       " 'category',\n",
       " 'cuisine',\n",
       " 'discount_on_base',\n",
       " 'discount_ratio',\n",
       " 'price_last_curr_diff',\n",
       " 'num_orders_lag_10',\n",
       " 'num_orders_lag_11',\n",
       " 'num_orders_lag_12',\n",
       " 'num_orders_lag_10_ewm_0.5',\n",
       " 'num_orders_lag_11_ewm_0.5',\n",
       " 'num_orders_lag_12_ewm_0.5',\n",
       " 'num_orders_lag_13_ewm_0.5',\n",
       " 'num_orders_lag_14_ewm_0.5',\n",
       " 'num_orders_lag_15_ewm_0.5',\n",
       " 'center_week_count',\n",
       " 'center_cat_count',\n",
       " 'center_cat_week_count',\n",
       " 'center_cui_count',\n",
       " 'meal_count',\n",
       " 'region_meal_count',\n",
       " 'meal_week_count',\n",
       " 'type_meal_week_count',\n",
       " 'region_meal_week_count',\n",
       " 'city_meal_week_count',\n",
       " 'meal_price_rank',\n",
       " 'meal_city_price_rank',\n",
       " 'meal_region_price_rank',\n",
       " 'meal_week_price_rank',\n",
       " 'center_price_rank',\n",
       " 'center_week_price_rank',\n",
       " 'center_cat_price_rank',\n",
       " 'meal_price_min',\n",
       " 'meal_price_max',\n",
       " 'meal_price_mean',\n",
       " 'meal_price_std',\n",
       " 'disc_price_min',\n",
       " 'disc_price_max',\n",
       " 'disc_price_mean',\n",
       " 'disc_price_std',\n",
       " 'meal_price2_min',\n",
       " 'meal_price2_max',\n",
       " 'meal_price2_mean',\n",
       " 'meal_price2_std',\n",
       " 'avg_orders',\n",
       " 'avg_center',\n",
       " 'avg_meal']"
      ]
     },
     "execution_count": 66,
     "metadata": {},
     "output_type": "execute_result"
    }
   ],
   "source": [
    "features"
   ]
  },
  {
   "cell_type": "code",
   "execution_count": 67,
   "id": "dc30b4b4",
   "metadata": {},
   "outputs": [
    {
     "data": {
      "text/plain": [
       "array([ 1,  2,  8,  9, 11, 12], dtype=int64)"
      ]
     },
     "execution_count": 67,
     "metadata": {},
     "output_type": "execute_result"
    }
   ],
   "source": [
    "categorical_features_indices = np.where(train_data[features].dtypes =='object')[0]\n",
    "categorical_features_indices"
   ]
  },
  {
   "cell_type": "markdown",
   "id": "de53ad7a",
   "metadata": {},
   "source": [
    "# Model Implementation"
   ]
  },
  {
   "cell_type": "markdown",
   "id": "230ba969",
   "metadata": {},
   "source": [
    "### We tried using Catboost regressor as our prediction model but we observed that it is taking lot of execution time which is not really encouraged in real life practice. So we decided on using other models which are mentioned below"
   ]
  },
  {
   "cell_type": "code",
   "execution_count": null,
   "id": "148e4a11",
   "metadata": {},
   "outputs": [],
   "source": [
    "# !pip install catboost\n",
    "# from catboost import CatBoostRegressor\n",
    "# model = CatBoostRegressor(\n",
    "#     iterations=2000, \n",
    "#     learning_rate=0.02, \n",
    "#     max_depth=8, \n",
    "#     l2_leaf_reg=10, \n",
    "#     loss_function='RMSE',\n",
    "#     random_seed=2019,\n",
    "#     od_type='Iter',\n",
    "#     od_wait=25,\n",
    "#     verbose=100,\n",
    "#     use_best_model=True\n",
    "#     )"
   ]
  },
  {
   "cell_type": "code",
   "execution_count": 68,
   "id": "8799b455",
   "metadata": {},
   "outputs": [],
   "source": [
    "#errcb=[]\n",
    "#y_pred_test=[]\n",
    "\n",
    "#fold = KFold(n_splits=5,shuffle=True,random_state=2019)\n",
    "\n",
    "# for train_index, test_index in fold.split(train_data[features],train_data['num_orders']):\n",
    "#     X_train, X_valid =train_data[features].iloc[train_index], train_data[features].iloc[test_index]\n",
    "#     y_train, y_valid = train_data['num_orders'][train_index],train_data['num_orders'][test_index]\n",
    "#     model.fit(X_train,y_train,\n",
    "#     cat_features = categorical_features_indices,\n",
    "#              eval_set=(X_valid,y_valid),\n",
    "#               early_stopping_rounds=300,\n",
    "#               verbose=100)\n",
    "#     preds = model.predict(X_valid)\n",
    "#     print(\"err: \",np.sqrt(mean_squared_error(y_valid,preds)))\n",
    "#     errcb.append(np.sqrt(mean_squared_error(y_valid,preds)))\n",
    "#     p = model.predict(test_data[features])\n",
    "#     y_pred_test.append(p)"
   ]
  },
  {
   "cell_type": "code",
   "execution_count": 69,
   "id": "5005f068",
   "metadata": {},
   "outputs": [],
   "source": [
    "#model.fit(X=train_data[features], y=train_data['num_orders'], eval_set=(train_data[features],train_data['num_orders']), cat_features=categorical_features_indices, verbose=100)"
   ]
  },
  {
   "cell_type": "code",
   "execution_count": 70,
   "id": "6fff2a9f",
   "metadata": {},
   "outputs": [],
   "source": [
    "# pred = model.predict(test_data[features])\n",
    "# print(pred)"
   ]
  },
  {
   "cell_type": "code",
   "execution_count": 71,
   "id": "5ade65aa",
   "metadata": {},
   "outputs": [],
   "source": [
    "#pred = (np.exp(pred) - 1)"
   ]
  },
  {
   "cell_type": "code",
   "execution_count": 72,
   "id": "fab3502c",
   "metadata": {},
   "outputs": [],
   "source": [
    "# submission = pd.DataFrame({'id':test['id'],'num_orders':pred})\n",
    "# submission = submission[['id','num_orders']]\n",
    "# submission.head()"
   ]
  },
  {
   "cell_type": "code",
   "execution_count": 73,
   "id": "87edc3fb",
   "metadata": {},
   "outputs": [],
   "source": [
    "# submission.to_csv('output/catboost_1.csv', index=False)"
   ]
  },
  {
   "cell_type": "code",
   "execution_count": 74,
   "id": "037bc3fe",
   "metadata": {},
   "outputs": [],
   "source": [
    "from sklearn.model_selection import train_test_split, GridSearchCV\n",
    "from sklearn.preprocessing import LabelEncoder"
   ]
  },
  {
   "cell_type": "code",
   "execution_count": 76,
   "id": "61de536b",
   "metadata": {},
   "outputs": [],
   "source": [
    "test_file=pd.read_csv('datasets/test_file.csv')\n",
    "train_file=pd.read_csv('datasets/train_file.csv')\n",
    "meal_file=pd.read_csv('datasets/meal_info.csv')\n",
    "fullfilment_file=pd.read_csv('datasets/fulfilment_center_info.csv')"
   ]
  },
  {
   "cell_type": "code",
   "execution_count": 77,
   "id": "4f36d5b0",
   "metadata": {},
   "outputs": [
    {
     "name": "stdout",
     "output_type": "stream",
     "text": [
      "        id  week  center_id  meal_id  checkout_price  base_price  \\\n",
      "0  1028232   146         55     1885          158.11      159.11   \n",
      "1  1127204   146         55     1993          160.11      159.11   \n",
      "2  1212707   146         55     2539          157.14      159.14   \n",
      "3  1082698   146         55     2631          162.02      162.02   \n",
      "4  1400926   146         55     1248          163.93      163.93   \n",
      "\n",
      "   emailer_for_promotion  homepage_featured  \n",
      "0                      0                  0  \n",
      "1                      0                  0  \n",
      "2                      0                  0  \n",
      "3                      0                  0  \n",
      "4                      0                  0  \n"
     ]
    }
   ],
   "source": [
    "df=test_file.copy()\n",
    "print(df.head())"
   ]
  },
  {
   "cell_type": "code",
   "execution_count": 78,
   "id": "d2bae3a1",
   "metadata": {},
   "outputs": [],
   "source": [
    "df.rename(columns={\"id,week,center_id,meal_id,checkout_price,base_price,emailer_for_promotion,homepage_featured\":\"new\"},inplace=True)\n"
   ]
  },
  {
   "cell_type": "code",
   "execution_count": 79,
   "id": "fac6b9d0",
   "metadata": {},
   "outputs": [
    {
     "data": {
      "text/html": [
       "<div>\n",
       "<style scoped>\n",
       "    .dataframe tbody tr th:only-of-type {\n",
       "        vertical-align: middle;\n",
       "    }\n",
       "\n",
       "    .dataframe tbody tr th {\n",
       "        vertical-align: top;\n",
       "    }\n",
       "\n",
       "    .dataframe thead th {\n",
       "        text-align: right;\n",
       "    }\n",
       "</style>\n",
       "<table border=\"1\" class=\"dataframe\">\n",
       "  <thead>\n",
       "    <tr style=\"text-align: right;\">\n",
       "      <th></th>\n",
       "      <th>id</th>\n",
       "      <th>week</th>\n",
       "      <th>center_id</th>\n",
       "      <th>meal_id</th>\n",
       "      <th>checkout_price</th>\n",
       "      <th>base_price</th>\n",
       "      <th>emailer_for_promotion</th>\n",
       "      <th>homepage_featured</th>\n",
       "    </tr>\n",
       "  </thead>\n",
       "  <tbody>\n",
       "    <tr>\n",
       "      <th>0</th>\n",
       "      <td>1028232</td>\n",
       "      <td>146</td>\n",
       "      <td>55</td>\n",
       "      <td>1885</td>\n",
       "      <td>158.11</td>\n",
       "      <td>159.11</td>\n",
       "      <td>0</td>\n",
       "      <td>0</td>\n",
       "    </tr>\n",
       "    <tr>\n",
       "      <th>1</th>\n",
       "      <td>1127204</td>\n",
       "      <td>146</td>\n",
       "      <td>55</td>\n",
       "      <td>1993</td>\n",
       "      <td>160.11</td>\n",
       "      <td>159.11</td>\n",
       "      <td>0</td>\n",
       "      <td>0</td>\n",
       "    </tr>\n",
       "    <tr>\n",
       "      <th>2</th>\n",
       "      <td>1212707</td>\n",
       "      <td>146</td>\n",
       "      <td>55</td>\n",
       "      <td>2539</td>\n",
       "      <td>157.14</td>\n",
       "      <td>159.14</td>\n",
       "      <td>0</td>\n",
       "      <td>0</td>\n",
       "    </tr>\n",
       "    <tr>\n",
       "      <th>3</th>\n",
       "      <td>1082698</td>\n",
       "      <td>146</td>\n",
       "      <td>55</td>\n",
       "      <td>2631</td>\n",
       "      <td>162.02</td>\n",
       "      <td>162.02</td>\n",
       "      <td>0</td>\n",
       "      <td>0</td>\n",
       "    </tr>\n",
       "    <tr>\n",
       "      <th>4</th>\n",
       "      <td>1400926</td>\n",
       "      <td>146</td>\n",
       "      <td>55</td>\n",
       "      <td>1248</td>\n",
       "      <td>163.93</td>\n",
       "      <td>163.93</td>\n",
       "      <td>0</td>\n",
       "      <td>0</td>\n",
       "    </tr>\n",
       "  </tbody>\n",
       "</table>\n",
       "</div>"
      ],
      "text/plain": [
       "        id  week  center_id  meal_id  checkout_price  base_price  \\\n",
       "0  1028232   146         55     1885          158.11      159.11   \n",
       "1  1127204   146         55     1993          160.11      159.11   \n",
       "2  1212707   146         55     2539          157.14      159.14   \n",
       "3  1082698   146         55     2631          162.02      162.02   \n",
       "4  1400926   146         55     1248          163.93      163.93   \n",
       "\n",
       "   emailer_for_promotion  homepage_featured  \n",
       "0                      0                  0  \n",
       "1                      0                  0  \n",
       "2                      0                  0  \n",
       "3                      0                  0  \n",
       "4                      0                  0  "
      ]
     },
     "execution_count": 79,
     "metadata": {},
     "output_type": "execute_result"
    }
   ],
   "source": [
    "df['id']=df['id'].astype('int')\n",
    "df['week']=df['week'].astype('int')\n",
    "df['center_id']=df['center_id'].astype('int')\n",
    "df['meal_id']=df['meal_id'].astype('int')\n",
    "df['checkout_price']=df['checkout_price'].astype('float')\n",
    "df['base_price']=df['base_price'].astype('float')\n",
    "\n",
    "df['emailer_for_promotion']=df['emailer_for_promotion'].astype('int')\n",
    "df['homepage_featured']=df['homepage_featured'].astype('int')\n",
    "df.head()"
   ]
  },
  {
   "cell_type": "code",
   "execution_count": 80,
   "id": "197a8a67",
   "metadata": {},
   "outputs": [],
   "source": [
    "train_df = pd.merge(train_file,fullfilment_file, on='center_id')\n",
    "test_df= pd.merge(df,fullfilment_file, on='center_id')"
   ]
  },
  {
   "cell_type": "code",
   "execution_count": 81,
   "id": "89d0c815",
   "metadata": {},
   "outputs": [],
   "source": [
    "train_df = pd.merge(train_df,meal_file, on='meal_id')\n",
    "test_df = pd.merge(test_df,meal_file, on='meal_id')"
   ]
  },
  {
   "cell_type": "code",
   "execution_count": 82,
   "id": "41eb0e36",
   "metadata": {},
   "outputs": [
    {
     "data": {
      "text/html": [
       "<div>\n",
       "<style scoped>\n",
       "    .dataframe tbody tr th:only-of-type {\n",
       "        vertical-align: middle;\n",
       "    }\n",
       "\n",
       "    .dataframe tbody tr th {\n",
       "        vertical-align: top;\n",
       "    }\n",
       "\n",
       "    .dataframe thead th {\n",
       "        text-align: right;\n",
       "    }\n",
       "</style>\n",
       "<table border=\"1\" class=\"dataframe\">\n",
       "  <thead>\n",
       "    <tr style=\"text-align: right;\">\n",
       "      <th></th>\n",
       "      <th>id</th>\n",
       "      <th>week</th>\n",
       "      <th>center_id</th>\n",
       "      <th>meal_id</th>\n",
       "      <th>checkout_price</th>\n",
       "      <th>base_price</th>\n",
       "      <th>emailer_for_promotion</th>\n",
       "      <th>homepage_featured</th>\n",
       "      <th>city_code</th>\n",
       "      <th>region_code</th>\n",
       "      <th>center_type</th>\n",
       "      <th>op_area</th>\n",
       "      <th>category</th>\n",
       "      <th>cuisine</th>\n",
       "    </tr>\n",
       "  </thead>\n",
       "  <tbody>\n",
       "    <tr>\n",
       "      <th>0</th>\n",
       "      <td>1028232</td>\n",
       "      <td>146</td>\n",
       "      <td>55</td>\n",
       "      <td>1885</td>\n",
       "      <td>158.11</td>\n",
       "      <td>159.11</td>\n",
       "      <td>0</td>\n",
       "      <td>0</td>\n",
       "      <td>647</td>\n",
       "      <td>56</td>\n",
       "      <td>TYPE_C</td>\n",
       "      <td>2.0</td>\n",
       "      <td>Beverages</td>\n",
       "      <td>Thai</td>\n",
       "    </tr>\n",
       "    <tr>\n",
       "      <th>1</th>\n",
       "      <td>1262649</td>\n",
       "      <td>147</td>\n",
       "      <td>55</td>\n",
       "      <td>1885</td>\n",
       "      <td>159.11</td>\n",
       "      <td>159.11</td>\n",
       "      <td>0</td>\n",
       "      <td>0</td>\n",
       "      <td>647</td>\n",
       "      <td>56</td>\n",
       "      <td>TYPE_C</td>\n",
       "      <td>2.0</td>\n",
       "      <td>Beverages</td>\n",
       "      <td>Thai</td>\n",
       "    </tr>\n",
       "    <tr>\n",
       "      <th>2</th>\n",
       "      <td>1453211</td>\n",
       "      <td>149</td>\n",
       "      <td>55</td>\n",
       "      <td>1885</td>\n",
       "      <td>157.14</td>\n",
       "      <td>158.14</td>\n",
       "      <td>0</td>\n",
       "      <td>0</td>\n",
       "      <td>647</td>\n",
       "      <td>56</td>\n",
       "      <td>TYPE_C</td>\n",
       "      <td>2.0</td>\n",
       "      <td>Beverages</td>\n",
       "      <td>Thai</td>\n",
       "    </tr>\n",
       "    <tr>\n",
       "      <th>3</th>\n",
       "      <td>1262599</td>\n",
       "      <td>150</td>\n",
       "      <td>55</td>\n",
       "      <td>1885</td>\n",
       "      <td>159.14</td>\n",
       "      <td>157.14</td>\n",
       "      <td>0</td>\n",
       "      <td>0</td>\n",
       "      <td>647</td>\n",
       "      <td>56</td>\n",
       "      <td>TYPE_C</td>\n",
       "      <td>2.0</td>\n",
       "      <td>Beverages</td>\n",
       "      <td>Thai</td>\n",
       "    </tr>\n",
       "    <tr>\n",
       "      <th>4</th>\n",
       "      <td>1495848</td>\n",
       "      <td>151</td>\n",
       "      <td>55</td>\n",
       "      <td>1885</td>\n",
       "      <td>160.11</td>\n",
       "      <td>159.11</td>\n",
       "      <td>0</td>\n",
       "      <td>0</td>\n",
       "      <td>647</td>\n",
       "      <td>56</td>\n",
       "      <td>TYPE_C</td>\n",
       "      <td>2.0</td>\n",
       "      <td>Beverages</td>\n",
       "      <td>Thai</td>\n",
       "    </tr>\n",
       "  </tbody>\n",
       "</table>\n",
       "</div>"
      ],
      "text/plain": [
       "        id  week  center_id  meal_id  checkout_price  base_price  \\\n",
       "0  1028232   146         55     1885          158.11      159.11   \n",
       "1  1262649   147         55     1885          159.11      159.11   \n",
       "2  1453211   149         55     1885          157.14      158.14   \n",
       "3  1262599   150         55     1885          159.14      157.14   \n",
       "4  1495848   151         55     1885          160.11      159.11   \n",
       "\n",
       "   emailer_for_promotion  homepage_featured  city_code  region_code  \\\n",
       "0                      0                  0        647           56   \n",
       "1                      0                  0        647           56   \n",
       "2                      0                  0        647           56   \n",
       "3                      0                  0        647           56   \n",
       "4                      0                  0        647           56   \n",
       "\n",
       "  center_type  op_area   category cuisine  \n",
       "0      TYPE_C      2.0  Beverages    Thai  \n",
       "1      TYPE_C      2.0  Beverages    Thai  \n",
       "2      TYPE_C      2.0  Beverages    Thai  \n",
       "3      TYPE_C      2.0  Beverages    Thai  \n",
       "4      TYPE_C      2.0  Beverages    Thai  "
      ]
     },
     "execution_count": 82,
     "metadata": {},
     "output_type": "execute_result"
    }
   ],
   "source": [
    "train_df.tail()\n",
    "test_df.head()"
   ]
  },
  {
   "cell_type": "code",
   "execution_count": 83,
   "id": "274ba12f",
   "metadata": {},
   "outputs": [],
   "source": [
    "encoder=LabelEncoder()\n",
    "encoder2=LabelEncoder()\n",
    "encoder3=LabelEncoder()"
   ]
  },
  {
   "cell_type": "code",
   "execution_count": 84,
   "id": "0c51491f",
   "metadata": {},
   "outputs": [
    {
     "data": {
      "text/html": [
       "<div>\n",
       "<style scoped>\n",
       "    .dataframe tbody tr th:only-of-type {\n",
       "        vertical-align: middle;\n",
       "    }\n",
       "\n",
       "    .dataframe tbody tr th {\n",
       "        vertical-align: top;\n",
       "    }\n",
       "\n",
       "    .dataframe thead th {\n",
       "        text-align: right;\n",
       "    }\n",
       "</style>\n",
       "<table border=\"1\" class=\"dataframe\">\n",
       "  <thead>\n",
       "    <tr style=\"text-align: right;\">\n",
       "      <th></th>\n",
       "      <th>id</th>\n",
       "      <th>week</th>\n",
       "      <th>center_id</th>\n",
       "      <th>meal_id</th>\n",
       "      <th>checkout_price</th>\n",
       "      <th>base_price</th>\n",
       "      <th>emailer_for_promotion</th>\n",
       "      <th>homepage_featured</th>\n",
       "      <th>num_orders</th>\n",
       "      <th>city_code</th>\n",
       "      <th>region_code</th>\n",
       "      <th>center_type</th>\n",
       "      <th>op_area</th>\n",
       "      <th>category</th>\n",
       "      <th>cuisine</th>\n",
       "    </tr>\n",
       "  </thead>\n",
       "  <tbody>\n",
       "    <tr>\n",
       "      <th>0</th>\n",
       "      <td>1379560</td>\n",
       "      <td>1</td>\n",
       "      <td>55</td>\n",
       "      <td>1885</td>\n",
       "      <td>136.83</td>\n",
       "      <td>152.29</td>\n",
       "      <td>0</td>\n",
       "      <td>0</td>\n",
       "      <td>177</td>\n",
       "      <td>647</td>\n",
       "      <td>56</td>\n",
       "      <td>TYPE_C</td>\n",
       "      <td>2.0</td>\n",
       "      <td>Beverages</td>\n",
       "      <td>Thai</td>\n",
       "    </tr>\n",
       "    <tr>\n",
       "      <th>1</th>\n",
       "      <td>1018704</td>\n",
       "      <td>2</td>\n",
       "      <td>55</td>\n",
       "      <td>1885</td>\n",
       "      <td>135.83</td>\n",
       "      <td>152.29</td>\n",
       "      <td>0</td>\n",
       "      <td>0</td>\n",
       "      <td>323</td>\n",
       "      <td>647</td>\n",
       "      <td>56</td>\n",
       "      <td>TYPE_C</td>\n",
       "      <td>2.0</td>\n",
       "      <td>Beverages</td>\n",
       "      <td>Thai</td>\n",
       "    </tr>\n",
       "    <tr>\n",
       "      <th>2</th>\n",
       "      <td>1196273</td>\n",
       "      <td>3</td>\n",
       "      <td>55</td>\n",
       "      <td>1885</td>\n",
       "      <td>132.92</td>\n",
       "      <td>133.92</td>\n",
       "      <td>0</td>\n",
       "      <td>0</td>\n",
       "      <td>96</td>\n",
       "      <td>647</td>\n",
       "      <td>56</td>\n",
       "      <td>TYPE_C</td>\n",
       "      <td>2.0</td>\n",
       "      <td>Beverages</td>\n",
       "      <td>Thai</td>\n",
       "    </tr>\n",
       "    <tr>\n",
       "      <th>3</th>\n",
       "      <td>1116527</td>\n",
       "      <td>4</td>\n",
       "      <td>55</td>\n",
       "      <td>1885</td>\n",
       "      <td>135.86</td>\n",
       "      <td>134.86</td>\n",
       "      <td>0</td>\n",
       "      <td>0</td>\n",
       "      <td>163</td>\n",
       "      <td>647</td>\n",
       "      <td>56</td>\n",
       "      <td>TYPE_C</td>\n",
       "      <td>2.0</td>\n",
       "      <td>Beverages</td>\n",
       "      <td>Thai</td>\n",
       "    </tr>\n",
       "    <tr>\n",
       "      <th>4</th>\n",
       "      <td>1343872</td>\n",
       "      <td>5</td>\n",
       "      <td>55</td>\n",
       "      <td>1885</td>\n",
       "      <td>146.50</td>\n",
       "      <td>147.50</td>\n",
       "      <td>0</td>\n",
       "      <td>0</td>\n",
       "      <td>215</td>\n",
       "      <td>647</td>\n",
       "      <td>56</td>\n",
       "      <td>TYPE_C</td>\n",
       "      <td>2.0</td>\n",
       "      <td>Beverages</td>\n",
       "      <td>Thai</td>\n",
       "    </tr>\n",
       "  </tbody>\n",
       "</table>\n",
       "</div>"
      ],
      "text/plain": [
       "        id  week  center_id  meal_id  checkout_price  base_price  \\\n",
       "0  1379560     1         55     1885          136.83      152.29   \n",
       "1  1018704     2         55     1885          135.83      152.29   \n",
       "2  1196273     3         55     1885          132.92      133.92   \n",
       "3  1116527     4         55     1885          135.86      134.86   \n",
       "4  1343872     5         55     1885          146.50      147.50   \n",
       "\n",
       "   emailer_for_promotion  homepage_featured  num_orders  city_code  \\\n",
       "0                      0                  0         177        647   \n",
       "1                      0                  0         323        647   \n",
       "2                      0                  0          96        647   \n",
       "3                      0                  0         163        647   \n",
       "4                      0                  0         215        647   \n",
       "\n",
       "   region_code center_type  op_area   category cuisine  \n",
       "0           56      TYPE_C      2.0  Beverages    Thai  \n",
       "1           56      TYPE_C      2.0  Beverages    Thai  \n",
       "2           56      TYPE_C      2.0  Beverages    Thai  \n",
       "3           56      TYPE_C      2.0  Beverages    Thai  \n",
       "4           56      TYPE_C      2.0  Beverages    Thai  "
      ]
     },
     "execution_count": 84,
     "metadata": {},
     "output_type": "execute_result"
    }
   ],
   "source": [
    "main_data=train_df.copy()\n",
    "main_data.head()"
   ]
  },
  {
   "cell_type": "code",
   "execution_count": 85,
   "id": "6c5bd7b6",
   "metadata": {},
   "outputs": [
    {
     "data": {
      "text/html": [
       "<div>\n",
       "<style scoped>\n",
       "    .dataframe tbody tr th:only-of-type {\n",
       "        vertical-align: middle;\n",
       "    }\n",
       "\n",
       "    .dataframe tbody tr th {\n",
       "        vertical-align: top;\n",
       "    }\n",
       "\n",
       "    .dataframe thead th {\n",
       "        text-align: right;\n",
       "    }\n",
       "</style>\n",
       "<table border=\"1\" class=\"dataframe\">\n",
       "  <thead>\n",
       "    <tr style=\"text-align: right;\">\n",
       "      <th></th>\n",
       "      <th>id</th>\n",
       "      <th>week</th>\n",
       "      <th>center_id</th>\n",
       "      <th>meal_id</th>\n",
       "      <th>checkout_price</th>\n",
       "      <th>base_price</th>\n",
       "      <th>emailer_for_promotion</th>\n",
       "      <th>homepage_featured</th>\n",
       "      <th>num_orders</th>\n",
       "      <th>city_code</th>\n",
       "      <th>region_code</th>\n",
       "      <th>center_type</th>\n",
       "      <th>op_area</th>\n",
       "      <th>category</th>\n",
       "      <th>cuisine</th>\n",
       "    </tr>\n",
       "  </thead>\n",
       "  <tbody>\n",
       "    <tr>\n",
       "      <th>0</th>\n",
       "      <td>1379560</td>\n",
       "      <td>1</td>\n",
       "      <td>55</td>\n",
       "      <td>1885</td>\n",
       "      <td>136.83</td>\n",
       "      <td>152.29</td>\n",
       "      <td>0</td>\n",
       "      <td>0</td>\n",
       "      <td>177</td>\n",
       "      <td>647</td>\n",
       "      <td>56</td>\n",
       "      <td>2</td>\n",
       "      <td>2.0</td>\n",
       "      <td>0</td>\n",
       "      <td>3</td>\n",
       "    </tr>\n",
       "    <tr>\n",
       "      <th>1</th>\n",
       "      <td>1018704</td>\n",
       "      <td>2</td>\n",
       "      <td>55</td>\n",
       "      <td>1885</td>\n",
       "      <td>135.83</td>\n",
       "      <td>152.29</td>\n",
       "      <td>0</td>\n",
       "      <td>0</td>\n",
       "      <td>323</td>\n",
       "      <td>647</td>\n",
       "      <td>56</td>\n",
       "      <td>2</td>\n",
       "      <td>2.0</td>\n",
       "      <td>0</td>\n",
       "      <td>3</td>\n",
       "    </tr>\n",
       "    <tr>\n",
       "      <th>2</th>\n",
       "      <td>1196273</td>\n",
       "      <td>3</td>\n",
       "      <td>55</td>\n",
       "      <td>1885</td>\n",
       "      <td>132.92</td>\n",
       "      <td>133.92</td>\n",
       "      <td>0</td>\n",
       "      <td>0</td>\n",
       "      <td>96</td>\n",
       "      <td>647</td>\n",
       "      <td>56</td>\n",
       "      <td>2</td>\n",
       "      <td>2.0</td>\n",
       "      <td>0</td>\n",
       "      <td>3</td>\n",
       "    </tr>\n",
       "    <tr>\n",
       "      <th>3</th>\n",
       "      <td>1116527</td>\n",
       "      <td>4</td>\n",
       "      <td>55</td>\n",
       "      <td>1885</td>\n",
       "      <td>135.86</td>\n",
       "      <td>134.86</td>\n",
       "      <td>0</td>\n",
       "      <td>0</td>\n",
       "      <td>163</td>\n",
       "      <td>647</td>\n",
       "      <td>56</td>\n",
       "      <td>2</td>\n",
       "      <td>2.0</td>\n",
       "      <td>0</td>\n",
       "      <td>3</td>\n",
       "    </tr>\n",
       "    <tr>\n",
       "      <th>4</th>\n",
       "      <td>1343872</td>\n",
       "      <td>5</td>\n",
       "      <td>55</td>\n",
       "      <td>1885</td>\n",
       "      <td>146.50</td>\n",
       "      <td>147.50</td>\n",
       "      <td>0</td>\n",
       "      <td>0</td>\n",
       "      <td>215</td>\n",
       "      <td>647</td>\n",
       "      <td>56</td>\n",
       "      <td>2</td>\n",
       "      <td>2.0</td>\n",
       "      <td>0</td>\n",
       "      <td>3</td>\n",
       "    </tr>\n",
       "  </tbody>\n",
       "</table>\n",
       "</div>"
      ],
      "text/plain": [
       "        id  week  center_id  meal_id  checkout_price  base_price  \\\n",
       "0  1379560     1         55     1885          136.83      152.29   \n",
       "1  1018704     2         55     1885          135.83      152.29   \n",
       "2  1196273     3         55     1885          132.92      133.92   \n",
       "3  1116527     4         55     1885          135.86      134.86   \n",
       "4  1343872     5         55     1885          146.50      147.50   \n",
       "\n",
       "   emailer_for_promotion  homepage_featured  num_orders  city_code  \\\n",
       "0                      0                  0         177        647   \n",
       "1                      0                  0         323        647   \n",
       "2                      0                  0          96        647   \n",
       "3                      0                  0         163        647   \n",
       "4                      0                  0         215        647   \n",
       "\n",
       "   region_code  center_type  op_area  category  cuisine  \n",
       "0           56            2      2.0         0        3  \n",
       "1           56            2      2.0         0        3  \n",
       "2           56            2      2.0         0        3  \n",
       "3           56            2      2.0         0        3  \n",
       "4           56            2      2.0         0        3  "
      ]
     },
     "execution_count": 85,
     "metadata": {},
     "output_type": "execute_result"
    }
   ],
   "source": [
    "main_data['category']=encoder.fit_transform(main_data['category'])\n",
    "main_data['center_type']=encoder2.fit_transform(main_data['center_type'])\n",
    "main_data['cuisine']=encoder3.fit_transform(main_data['cuisine'])\n",
    "main_data.head()"
   ]
  },
  {
   "cell_type": "code",
   "execution_count": 86,
   "id": "5fc1383e",
   "metadata": {},
   "outputs": [
    {
     "data": {
      "text/plain": [
       "Index(['num_orders', 'homepage_featured', 'emailer_for_promotion', 'op_area',\n",
       "       'cuisine', 'city_code', 'region_code', 'category'],\n",
       "      dtype='object')"
      ]
     },
     "execution_count": 86,
     "metadata": {},
     "output_type": "execute_result"
    }
   ],
   "source": [
    "main_data1= main_data.drop(['id'], axis=1)\n",
    "correlation = main_data1.corr(method='pearson')\n",
    "columns = correlation.nlargest(8, 'num_orders').index\n",
    "columns"
   ]
  },
  {
   "cell_type": "code",
   "execution_count": 87,
   "id": "7b8e5600",
   "metadata": {},
   "outputs": [],
   "source": [
    "features = columns.drop(['num_orders'])\n",
    "main_data2 = main_data[features]\n",
    "X = main_data2.values\n",
    "y = main_data['num_orders'].values\n",
    "\n",
    "from sklearn.model_selection import train_test_split\n",
    "x_train, x_test, y_train, y_test = train_test_split(X, y, test_size=0.25,random_state=0)"
   ]
  },
  {
   "cell_type": "code",
   "execution_count": 88,
   "id": "c5bf5351",
   "metadata": {},
   "outputs": [
    {
     "data": {
      "text/plain": [
       "(342411, 7)"
      ]
     },
     "execution_count": 88,
     "metadata": {},
     "output_type": "execute_result"
    }
   ],
   "source": [
    "x_train.shape"
   ]
  },
  {
   "cell_type": "code",
   "execution_count": 89,
   "id": "ec230feb",
   "metadata": {},
   "outputs": [
    {
     "data": {
      "text/html": [
       "<div>\n",
       "<style scoped>\n",
       "    .dataframe tbody tr th:only-of-type {\n",
       "        vertical-align: middle;\n",
       "    }\n",
       "\n",
       "    .dataframe tbody tr th {\n",
       "        vertical-align: top;\n",
       "    }\n",
       "\n",
       "    .dataframe thead th {\n",
       "        text-align: right;\n",
       "    }\n",
       "</style>\n",
       "<table border=\"1\" class=\"dataframe\">\n",
       "  <thead>\n",
       "    <tr style=\"text-align: right;\">\n",
       "      <th></th>\n",
       "      <th>id</th>\n",
       "      <th>week</th>\n",
       "      <th>center_id</th>\n",
       "      <th>meal_id</th>\n",
       "      <th>checkout_price</th>\n",
       "      <th>base_price</th>\n",
       "      <th>emailer_for_promotion</th>\n",
       "      <th>homepage_featured</th>\n",
       "      <th>city_code</th>\n",
       "      <th>region_code</th>\n",
       "      <th>center_type</th>\n",
       "      <th>op_area</th>\n",
       "      <th>category</th>\n",
       "      <th>cuisine</th>\n",
       "    </tr>\n",
       "  </thead>\n",
       "  <tbody>\n",
       "    <tr>\n",
       "      <th>0</th>\n",
       "      <td>1028232</td>\n",
       "      <td>146</td>\n",
       "      <td>55</td>\n",
       "      <td>1885</td>\n",
       "      <td>158.11</td>\n",
       "      <td>159.11</td>\n",
       "      <td>0</td>\n",
       "      <td>0</td>\n",
       "      <td>647</td>\n",
       "      <td>56</td>\n",
       "      <td>TYPE_C</td>\n",
       "      <td>2.0</td>\n",
       "      <td>Beverages</td>\n",
       "      <td>Thai</td>\n",
       "    </tr>\n",
       "    <tr>\n",
       "      <th>1</th>\n",
       "      <td>1262649</td>\n",
       "      <td>147</td>\n",
       "      <td>55</td>\n",
       "      <td>1885</td>\n",
       "      <td>159.11</td>\n",
       "      <td>159.11</td>\n",
       "      <td>0</td>\n",
       "      <td>0</td>\n",
       "      <td>647</td>\n",
       "      <td>56</td>\n",
       "      <td>TYPE_C</td>\n",
       "      <td>2.0</td>\n",
       "      <td>Beverages</td>\n",
       "      <td>Thai</td>\n",
       "    </tr>\n",
       "    <tr>\n",
       "      <th>2</th>\n",
       "      <td>1453211</td>\n",
       "      <td>149</td>\n",
       "      <td>55</td>\n",
       "      <td>1885</td>\n",
       "      <td>157.14</td>\n",
       "      <td>158.14</td>\n",
       "      <td>0</td>\n",
       "      <td>0</td>\n",
       "      <td>647</td>\n",
       "      <td>56</td>\n",
       "      <td>TYPE_C</td>\n",
       "      <td>2.0</td>\n",
       "      <td>Beverages</td>\n",
       "      <td>Thai</td>\n",
       "    </tr>\n",
       "    <tr>\n",
       "      <th>3</th>\n",
       "      <td>1262599</td>\n",
       "      <td>150</td>\n",
       "      <td>55</td>\n",
       "      <td>1885</td>\n",
       "      <td>159.14</td>\n",
       "      <td>157.14</td>\n",
       "      <td>0</td>\n",
       "      <td>0</td>\n",
       "      <td>647</td>\n",
       "      <td>56</td>\n",
       "      <td>TYPE_C</td>\n",
       "      <td>2.0</td>\n",
       "      <td>Beverages</td>\n",
       "      <td>Thai</td>\n",
       "    </tr>\n",
       "    <tr>\n",
       "      <th>4</th>\n",
       "      <td>1495848</td>\n",
       "      <td>151</td>\n",
       "      <td>55</td>\n",
       "      <td>1885</td>\n",
       "      <td>160.11</td>\n",
       "      <td>159.11</td>\n",
       "      <td>0</td>\n",
       "      <td>0</td>\n",
       "      <td>647</td>\n",
       "      <td>56</td>\n",
       "      <td>TYPE_C</td>\n",
       "      <td>2.0</td>\n",
       "      <td>Beverages</td>\n",
       "      <td>Thai</td>\n",
       "    </tr>\n",
       "  </tbody>\n",
       "</table>\n",
       "</div>"
      ],
      "text/plain": [
       "        id  week  center_id  meal_id  checkout_price  base_price  \\\n",
       "0  1028232   146         55     1885          158.11      159.11   \n",
       "1  1262649   147         55     1885          159.11      159.11   \n",
       "2  1453211   149         55     1885          157.14      158.14   \n",
       "3  1262599   150         55     1885          159.14      157.14   \n",
       "4  1495848   151         55     1885          160.11      159.11   \n",
       "\n",
       "   emailer_for_promotion  homepage_featured  city_code  region_code  \\\n",
       "0                      0                  0        647           56   \n",
       "1                      0                  0        647           56   \n",
       "2                      0                  0        647           56   \n",
       "3                      0                  0        647           56   \n",
       "4                      0                  0        647           56   \n",
       "\n",
       "  center_type  op_area   category cuisine  \n",
       "0      TYPE_C      2.0  Beverages    Thai  \n",
       "1      TYPE_C      2.0  Beverages    Thai  \n",
       "2      TYPE_C      2.0  Beverages    Thai  \n",
       "3      TYPE_C      2.0  Beverages    Thai  \n",
       "4      TYPE_C      2.0  Beverages    Thai  "
      ]
     },
     "execution_count": 89,
     "metadata": {},
     "output_type": "execute_result"
    }
   ],
   "source": [
    "test_data=test_df.copy()\n",
    "test_data.head()"
   ]
  },
  {
   "cell_type": "code",
   "execution_count": 90,
   "id": "9c87363d",
   "metadata": {},
   "outputs": [
    {
     "data": {
      "text/html": [
       "<div>\n",
       "<style scoped>\n",
       "    .dataframe tbody tr th:only-of-type {\n",
       "        vertical-align: middle;\n",
       "    }\n",
       "\n",
       "    .dataframe tbody tr th {\n",
       "        vertical-align: top;\n",
       "    }\n",
       "\n",
       "    .dataframe thead th {\n",
       "        text-align: right;\n",
       "    }\n",
       "</style>\n",
       "<table border=\"1\" class=\"dataframe\">\n",
       "  <thead>\n",
       "    <tr style=\"text-align: right;\">\n",
       "      <th></th>\n",
       "      <th>id</th>\n",
       "      <th>week</th>\n",
       "      <th>center_id</th>\n",
       "      <th>meal_id</th>\n",
       "      <th>checkout_price</th>\n",
       "      <th>base_price</th>\n",
       "      <th>emailer_for_promotion</th>\n",
       "      <th>homepage_featured</th>\n",
       "      <th>city_code</th>\n",
       "      <th>region_code</th>\n",
       "      <th>center_type</th>\n",
       "      <th>op_area</th>\n",
       "      <th>category</th>\n",
       "      <th>cuisine</th>\n",
       "    </tr>\n",
       "  </thead>\n",
       "  <tbody>\n",
       "    <tr>\n",
       "      <th>0</th>\n",
       "      <td>1028232</td>\n",
       "      <td>146</td>\n",
       "      <td>55</td>\n",
       "      <td>1885</td>\n",
       "      <td>158.11</td>\n",
       "      <td>159.11</td>\n",
       "      <td>0</td>\n",
       "      <td>0</td>\n",
       "      <td>647</td>\n",
       "      <td>56</td>\n",
       "      <td>2</td>\n",
       "      <td>2.0</td>\n",
       "      <td>0</td>\n",
       "      <td>3</td>\n",
       "    </tr>\n",
       "    <tr>\n",
       "      <th>1</th>\n",
       "      <td>1262649</td>\n",
       "      <td>147</td>\n",
       "      <td>55</td>\n",
       "      <td>1885</td>\n",
       "      <td>159.11</td>\n",
       "      <td>159.11</td>\n",
       "      <td>0</td>\n",
       "      <td>0</td>\n",
       "      <td>647</td>\n",
       "      <td>56</td>\n",
       "      <td>2</td>\n",
       "      <td>2.0</td>\n",
       "      <td>0</td>\n",
       "      <td>3</td>\n",
       "    </tr>\n",
       "    <tr>\n",
       "      <th>2</th>\n",
       "      <td>1453211</td>\n",
       "      <td>149</td>\n",
       "      <td>55</td>\n",
       "      <td>1885</td>\n",
       "      <td>157.14</td>\n",
       "      <td>158.14</td>\n",
       "      <td>0</td>\n",
       "      <td>0</td>\n",
       "      <td>647</td>\n",
       "      <td>56</td>\n",
       "      <td>2</td>\n",
       "      <td>2.0</td>\n",
       "      <td>0</td>\n",
       "      <td>3</td>\n",
       "    </tr>\n",
       "    <tr>\n",
       "      <th>3</th>\n",
       "      <td>1262599</td>\n",
       "      <td>150</td>\n",
       "      <td>55</td>\n",
       "      <td>1885</td>\n",
       "      <td>159.14</td>\n",
       "      <td>157.14</td>\n",
       "      <td>0</td>\n",
       "      <td>0</td>\n",
       "      <td>647</td>\n",
       "      <td>56</td>\n",
       "      <td>2</td>\n",
       "      <td>2.0</td>\n",
       "      <td>0</td>\n",
       "      <td>3</td>\n",
       "    </tr>\n",
       "    <tr>\n",
       "      <th>4</th>\n",
       "      <td>1495848</td>\n",
       "      <td>151</td>\n",
       "      <td>55</td>\n",
       "      <td>1885</td>\n",
       "      <td>160.11</td>\n",
       "      <td>159.11</td>\n",
       "      <td>0</td>\n",
       "      <td>0</td>\n",
       "      <td>647</td>\n",
       "      <td>56</td>\n",
       "      <td>2</td>\n",
       "      <td>2.0</td>\n",
       "      <td>0</td>\n",
       "      <td>3</td>\n",
       "    </tr>\n",
       "  </tbody>\n",
       "</table>\n",
       "</div>"
      ],
      "text/plain": [
       "        id  week  center_id  meal_id  checkout_price  base_price  \\\n",
       "0  1028232   146         55     1885          158.11      159.11   \n",
       "1  1262649   147         55     1885          159.11      159.11   \n",
       "2  1453211   149         55     1885          157.14      158.14   \n",
       "3  1262599   150         55     1885          159.14      157.14   \n",
       "4  1495848   151         55     1885          160.11      159.11   \n",
       "\n",
       "   emailer_for_promotion  homepage_featured  city_code  region_code  \\\n",
       "0                      0                  0        647           56   \n",
       "1                      0                  0        647           56   \n",
       "2                      0                  0        647           56   \n",
       "3                      0                  0        647           56   \n",
       "4                      0                  0        647           56   \n",
       "\n",
       "   center_type  op_area  category  cuisine  \n",
       "0            2      2.0         0        3  \n",
       "1            2      2.0         0        3  \n",
       "2            2      2.0         0        3  \n",
       "3            2      2.0         0        3  \n",
       "4            2      2.0         0        3  "
      ]
     },
     "execution_count": 90,
     "metadata": {},
     "output_type": "execute_result"
    }
   ],
   "source": [
    "test_data['category']=encoder.fit_transform(test_data['category'])\n",
    "test_data['center_type']=encoder2.fit_transform(test_data['center_type'])\n",
    "test_data['cuisine']=encoder3.fit_transform(test_data['cuisine'])\n",
    "test_data.head()"
   ]
  },
  {
   "cell_type": "code",
   "execution_count": 91,
   "id": "ffe85aa0",
   "metadata": {},
   "outputs": [
    {
     "data": {
      "text/html": [
       "<div>\n",
       "<style scoped>\n",
       "    .dataframe tbody tr th:only-of-type {\n",
       "        vertical-align: middle;\n",
       "    }\n",
       "\n",
       "    .dataframe tbody tr th {\n",
       "        vertical-align: top;\n",
       "    }\n",
       "\n",
       "    .dataframe thead th {\n",
       "        text-align: right;\n",
       "    }\n",
       "</style>\n",
       "<table border=\"1\" class=\"dataframe\">\n",
       "  <thead>\n",
       "    <tr style=\"text-align: right;\">\n",
       "      <th></th>\n",
       "      <th>id</th>\n",
       "      <th>week</th>\n",
       "      <th>center_id</th>\n",
       "      <th>meal_id</th>\n",
       "      <th>checkout_price</th>\n",
       "      <th>base_price</th>\n",
       "      <th>emailer_for_promotion</th>\n",
       "      <th>homepage_featured</th>\n",
       "      <th>city_code</th>\n",
       "      <th>region_code</th>\n",
       "      <th>center_type</th>\n",
       "      <th>op_area</th>\n",
       "      <th>category</th>\n",
       "      <th>cuisine</th>\n",
       "    </tr>\n",
       "  </thead>\n",
       "  <tbody>\n",
       "    <tr>\n",
       "      <th>0</th>\n",
       "      <td>1028232</td>\n",
       "      <td>146</td>\n",
       "      <td>55</td>\n",
       "      <td>1885</td>\n",
       "      <td>158.11</td>\n",
       "      <td>159.11</td>\n",
       "      <td>0</td>\n",
       "      <td>0</td>\n",
       "      <td>647</td>\n",
       "      <td>56</td>\n",
       "      <td>2</td>\n",
       "      <td>2.0</td>\n",
       "      <td>0</td>\n",
       "      <td>3</td>\n",
       "    </tr>\n",
       "    <tr>\n",
       "      <th>1</th>\n",
       "      <td>1262649</td>\n",
       "      <td>147</td>\n",
       "      <td>55</td>\n",
       "      <td>1885</td>\n",
       "      <td>159.11</td>\n",
       "      <td>159.11</td>\n",
       "      <td>0</td>\n",
       "      <td>0</td>\n",
       "      <td>647</td>\n",
       "      <td>56</td>\n",
       "      <td>2</td>\n",
       "      <td>2.0</td>\n",
       "      <td>0</td>\n",
       "      <td>3</td>\n",
       "    </tr>\n",
       "    <tr>\n",
       "      <th>2</th>\n",
       "      <td>1453211</td>\n",
       "      <td>149</td>\n",
       "      <td>55</td>\n",
       "      <td>1885</td>\n",
       "      <td>157.14</td>\n",
       "      <td>158.14</td>\n",
       "      <td>0</td>\n",
       "      <td>0</td>\n",
       "      <td>647</td>\n",
       "      <td>56</td>\n",
       "      <td>2</td>\n",
       "      <td>2.0</td>\n",
       "      <td>0</td>\n",
       "      <td>3</td>\n",
       "    </tr>\n",
       "    <tr>\n",
       "      <th>3</th>\n",
       "      <td>1262599</td>\n",
       "      <td>150</td>\n",
       "      <td>55</td>\n",
       "      <td>1885</td>\n",
       "      <td>159.14</td>\n",
       "      <td>157.14</td>\n",
       "      <td>0</td>\n",
       "      <td>0</td>\n",
       "      <td>647</td>\n",
       "      <td>56</td>\n",
       "      <td>2</td>\n",
       "      <td>2.0</td>\n",
       "      <td>0</td>\n",
       "      <td>3</td>\n",
       "    </tr>\n",
       "    <tr>\n",
       "      <th>4</th>\n",
       "      <td>1495848</td>\n",
       "      <td>151</td>\n",
       "      <td>55</td>\n",
       "      <td>1885</td>\n",
       "      <td>160.11</td>\n",
       "      <td>159.11</td>\n",
       "      <td>0</td>\n",
       "      <td>0</td>\n",
       "      <td>647</td>\n",
       "      <td>56</td>\n",
       "      <td>2</td>\n",
       "      <td>2.0</td>\n",
       "      <td>0</td>\n",
       "      <td>3</td>\n",
       "    </tr>\n",
       "  </tbody>\n",
       "</table>\n",
       "</div>"
      ],
      "text/plain": [
       "        id  week  center_id  meal_id  checkout_price  base_price  \\\n",
       "0  1028232   146         55     1885          158.11      159.11   \n",
       "1  1262649   147         55     1885          159.11      159.11   \n",
       "2  1453211   149         55     1885          157.14      158.14   \n",
       "3  1262599   150         55     1885          159.14      157.14   \n",
       "4  1495848   151         55     1885          160.11      159.11   \n",
       "\n",
       "   emailer_for_promotion  homepage_featured  city_code  region_code  \\\n",
       "0                      0                  0        647           56   \n",
       "1                      0                  0        647           56   \n",
       "2                      0                  0        647           56   \n",
       "3                      0                  0        647           56   \n",
       "4                      0                  0        647           56   \n",
       "\n",
       "   center_type  op_area  category  cuisine  \n",
       "0            2      2.0         0        3  \n",
       "1            2      2.0         0        3  \n",
       "2            2      2.0         0        3  \n",
       "3            2      2.0         0        3  \n",
       "4            2      2.0         0        3  "
      ]
     },
     "execution_count": 91,
     "metadata": {},
     "output_type": "execute_result"
    }
   ],
   "source": [
    "test_data1=test_data.copy()\n",
    "test_data1.head()"
   ]
  },
  {
   "cell_type": "code",
   "execution_count": 92,
   "id": "2a88d537",
   "metadata": {},
   "outputs": [
    {
     "data": {
      "text/html": [
       "<div>\n",
       "<style scoped>\n",
       "    .dataframe tbody tr th:only-of-type {\n",
       "        vertical-align: middle;\n",
       "    }\n",
       "\n",
       "    .dataframe tbody tr th {\n",
       "        vertical-align: top;\n",
       "    }\n",
       "\n",
       "    .dataframe thead th {\n",
       "        text-align: right;\n",
       "    }\n",
       "</style>\n",
       "<table border=\"1\" class=\"dataframe\">\n",
       "  <thead>\n",
       "    <tr style=\"text-align: right;\">\n",
       "      <th></th>\n",
       "      <th>emailer_for_promotion</th>\n",
       "      <th>homepage_featured</th>\n",
       "      <th>city_code</th>\n",
       "      <th>region_code</th>\n",
       "      <th>op_area</th>\n",
       "      <th>category</th>\n",
       "      <th>cuisine</th>\n",
       "    </tr>\n",
       "  </thead>\n",
       "  <tbody>\n",
       "    <tr>\n",
       "      <th>0</th>\n",
       "      <td>0</td>\n",
       "      <td>0</td>\n",
       "      <td>647</td>\n",
       "      <td>56</td>\n",
       "      <td>2.0</td>\n",
       "      <td>0</td>\n",
       "      <td>3</td>\n",
       "    </tr>\n",
       "    <tr>\n",
       "      <th>1</th>\n",
       "      <td>0</td>\n",
       "      <td>0</td>\n",
       "      <td>647</td>\n",
       "      <td>56</td>\n",
       "      <td>2.0</td>\n",
       "      <td>0</td>\n",
       "      <td>3</td>\n",
       "    </tr>\n",
       "    <tr>\n",
       "      <th>2</th>\n",
       "      <td>0</td>\n",
       "      <td>0</td>\n",
       "      <td>647</td>\n",
       "      <td>56</td>\n",
       "      <td>2.0</td>\n",
       "      <td>0</td>\n",
       "      <td>3</td>\n",
       "    </tr>\n",
       "    <tr>\n",
       "      <th>3</th>\n",
       "      <td>0</td>\n",
       "      <td>0</td>\n",
       "      <td>647</td>\n",
       "      <td>56</td>\n",
       "      <td>2.0</td>\n",
       "      <td>0</td>\n",
       "      <td>3</td>\n",
       "    </tr>\n",
       "    <tr>\n",
       "      <th>4</th>\n",
       "      <td>0</td>\n",
       "      <td>0</td>\n",
       "      <td>647</td>\n",
       "      <td>56</td>\n",
       "      <td>2.0</td>\n",
       "      <td>0</td>\n",
       "      <td>3</td>\n",
       "    </tr>\n",
       "  </tbody>\n",
       "</table>\n",
       "</div>"
      ],
      "text/plain": [
       "   emailer_for_promotion  homepage_featured  city_code  region_code  op_area  \\\n",
       "0                      0                  0        647           56      2.0   \n",
       "1                      0                  0        647           56      2.0   \n",
       "2                      0                  0        647           56      2.0   \n",
       "3                      0                  0        647           56      2.0   \n",
       "4                      0                  0        647           56      2.0   \n",
       "\n",
       "   category  cuisine  \n",
       "0         0        3  \n",
       "1         0        3  \n",
       "2         0        3  \n",
       "3         0        3  \n",
       "4         0        3  "
      ]
     },
     "execution_count": 92,
     "metadata": {},
     "output_type": "execute_result"
    }
   ],
   "source": [
    "test_data_final=test_data1.drop(columns=['id','center_id','meal_id','week','checkout_price','base_price','center_type'],axis=1)\n",
    "test_data_final.head()"
   ]
  },
  {
   "cell_type": "markdown",
   "id": "4ad324e2",
   "metadata": {},
   "source": [
    "## Implementing Decision tree Model"
   ]
  },
  {
   "cell_type": "markdown",
   "id": "a0b140ca",
   "metadata": {},
   "source": [
    "### We have implemented Decision Tree model here which is a supervised learning model "
   ]
  },
  {
   "cell_type": "code",
   "execution_count": 93,
   "id": "474e535e",
   "metadata": {},
   "outputs": [],
   "source": [
    "from sklearn.tree import DecisionTreeRegressor\n",
    "DTR = DecisionTreeRegressor()\n",
    "DTR.fit(x_train, y_train)\n",
    "y_pred = DTR.predict(x_test)"
   ]
  },
  {
   "cell_type": "code",
   "execution_count": 94,
   "id": "ded4aa4e",
   "metadata": {},
   "outputs": [
    {
     "data": {
      "text/plain": [
       "0.6295517363429151"
      ]
     },
     "execution_count": 94,
     "metadata": {},
     "output_type": "execute_result"
    }
   ],
   "source": [
    "from sklearn.metrics import mean_squared_log_error\n",
    "from sklearn import metrics\n",
    "MSLE=mean_squared_log_error(y_test, y_pred)\n",
    "MSLE=np.sqrt(MSLE)\n",
    "MSLE"
   ]
  },
  {
   "cell_type": "code",
   "execution_count": 96,
   "id": "a94faba7",
   "metadata": {},
   "outputs": [
    {
     "name": "stderr",
     "output_type": "stream",
     "text": [
      "C:\\Users\\SRAVA\\anaconda3\\lib\\site-packages\\sklearn\\base.py:443: UserWarning: X has feature names, but DecisionTreeRegressor was fitted without feature names\n",
      "  warnings.warn(\n"
     ]
    }
   ],
   "source": [
    "pred_test_data= DTR.predict(test_data_final)\n",
    "pred_test_data[pred_test_data<0] = 0\n",
    "submitDTR = pd.DataFrame({\n",
    "    'id' :test_data['id'],\n",
    "    'num_orders' : pred_test_data\n",
    "})\n",
    "submitDTR.head()\n",
    "submitDTR.to_csv(\"output/submission_DTR.csv\", index=False)"
   ]
  },
  {
   "cell_type": "code",
   "execution_count": 111,
   "id": "0335bb25",
   "metadata": {},
   "outputs": [
    {
     "data": {
      "text/html": [
       "<div>\n",
       "<style scoped>\n",
       "    .dataframe tbody tr th:only-of-type {\n",
       "        vertical-align: middle;\n",
       "    }\n",
       "\n",
       "    .dataframe tbody tr th {\n",
       "        vertical-align: top;\n",
       "    }\n",
       "\n",
       "    .dataframe thead th {\n",
       "        text-align: right;\n",
       "    }\n",
       "</style>\n",
       "<table border=\"1\" class=\"dataframe\">\n",
       "  <thead>\n",
       "    <tr style=\"text-align: right;\">\n",
       "      <th></th>\n",
       "      <th>id</th>\n",
       "      <th>num_orders</th>\n",
       "    </tr>\n",
       "  </thead>\n",
       "  <tbody>\n",
       "    <tr>\n",
       "      <th>0</th>\n",
       "      <td>1028232</td>\n",
       "      <td>737.338279</td>\n",
       "    </tr>\n",
       "    <tr>\n",
       "      <th>1</th>\n",
       "      <td>1262649</td>\n",
       "      <td>737.338279</td>\n",
       "    </tr>\n",
       "    <tr>\n",
       "      <th>2</th>\n",
       "      <td>1453211</td>\n",
       "      <td>737.338279</td>\n",
       "    </tr>\n",
       "    <tr>\n",
       "      <th>3</th>\n",
       "      <td>1262599</td>\n",
       "      <td>737.338279</td>\n",
       "    </tr>\n",
       "    <tr>\n",
       "      <th>4</th>\n",
       "      <td>1495848</td>\n",
       "      <td>737.338279</td>\n",
       "    </tr>\n",
       "    <tr>\n",
       "      <th>5</th>\n",
       "      <td>1342607</td>\n",
       "      <td>737.338279</td>\n",
       "    </tr>\n",
       "    <tr>\n",
       "      <th>6</th>\n",
       "      <td>1358429</td>\n",
       "      <td>737.338279</td>\n",
       "    </tr>\n",
       "    <tr>\n",
       "      <th>7</th>\n",
       "      <td>1475006</td>\n",
       "      <td>737.338279</td>\n",
       "    </tr>\n",
       "    <tr>\n",
       "      <th>8</th>\n",
       "      <td>1009709</td>\n",
       "      <td>737.338279</td>\n",
       "    </tr>\n",
       "    <tr>\n",
       "      <th>9</th>\n",
       "      <td>1460444</td>\n",
       "      <td>737.338279</td>\n",
       "    </tr>\n",
       "  </tbody>\n",
       "</table>\n",
       "</div>"
      ],
      "text/plain": [
       "        id  num_orders\n",
       "0  1028232  737.338279\n",
       "1  1262649  737.338279\n",
       "2  1453211  737.338279\n",
       "3  1262599  737.338279\n",
       "4  1495848  737.338279\n",
       "5  1342607  737.338279\n",
       "6  1358429  737.338279\n",
       "7  1475006  737.338279\n",
       "8  1009709  737.338279\n",
       "9  1460444  737.338279"
      ]
     },
     "execution_count": 111,
     "metadata": {},
     "output_type": "execute_result"
    }
   ],
   "source": [
    "output1 = pd.read_csv('output/submission_DTR.csv')\n",
    "output1.head(10)"
   ]
  },
  {
   "cell_type": "markdown",
   "id": "03f8728f",
   "metadata": {},
   "source": [
    "## Implementing gradient boosting regressor"
   ]
  },
  {
   "cell_type": "markdown",
   "id": "1a8a4a80",
   "metadata": {},
   "source": [
    "### We have implemented Decision Tree model here which is a supervised learning model "
   ]
  },
  {
   "cell_type": "code",
   "execution_count": 95,
   "id": "64b99699",
   "metadata": {},
   "outputs": [
    {
     "data": {
      "text/plain": [
       "0.8894918949864186"
      ]
     },
     "execution_count": 95,
     "metadata": {},
     "output_type": "execute_result"
    }
   ],
   "source": [
    "from sklearn.ensemble import GradientBoostingRegressor\n",
    "GB = GradientBoostingRegressor()\n",
    "GB.fit(x_train, y_train)\n",
    "y_pred = GB.predict(x_test)\n",
    "y_pred[y_pred<0] = 0\n",
    "MSLE=mean_squared_log_error(y_test, y_pred)\n",
    "RMSEL=np.sqrt(MSLE)\n",
    "MSLE"
   ]
  },
  {
   "cell_type": "code",
   "execution_count": 97,
   "id": "f7a93c96",
   "metadata": {},
   "outputs": [
    {
     "name": "stderr",
     "output_type": "stream",
     "text": [
      "C:\\Users\\SRAVA\\anaconda3\\lib\\site-packages\\sklearn\\base.py:443: UserWarning: X has feature names, but GradientBoostingRegressor was fitted without feature names\n",
      "  warnings.warn(\n"
     ]
    }
   ],
   "source": [
    "pred_test_data= GB.predict(test_data_final)\n",
    "pred_test_data[pred_test_data<0] = 0\n",
    "submitGB = pd.DataFrame({\n",
    "    'id' :test_data['id'],\n",
    "    'num_orders' : pred_test_data\n",
    "})\n",
    "submitGB.head()\n",
    "submitGB.to_csv(\"output/submission_GB.csv\", index=False)"
   ]
  },
  {
   "cell_type": "code",
   "execution_count": 112,
   "id": "68ad3e8f",
   "metadata": {},
   "outputs": [
    {
     "data": {
      "text/html": [
       "<div>\n",
       "<style scoped>\n",
       "    .dataframe tbody tr th:only-of-type {\n",
       "        vertical-align: middle;\n",
       "    }\n",
       "\n",
       "    .dataframe tbody tr th {\n",
       "        vertical-align: top;\n",
       "    }\n",
       "\n",
       "    .dataframe thead th {\n",
       "        text-align: right;\n",
       "    }\n",
       "</style>\n",
       "<table border=\"1\" class=\"dataframe\">\n",
       "  <thead>\n",
       "    <tr style=\"text-align: right;\">\n",
       "      <th></th>\n",
       "      <th>id</th>\n",
       "      <th>num_orders</th>\n",
       "    </tr>\n",
       "  </thead>\n",
       "  <tbody>\n",
       "    <tr>\n",
       "      <th>0</th>\n",
       "      <td>1028232</td>\n",
       "      <td>371.410742</td>\n",
       "    </tr>\n",
       "    <tr>\n",
       "      <th>1</th>\n",
       "      <td>1262649</td>\n",
       "      <td>371.410742</td>\n",
       "    </tr>\n",
       "    <tr>\n",
       "      <th>2</th>\n",
       "      <td>1453211</td>\n",
       "      <td>371.410742</td>\n",
       "    </tr>\n",
       "    <tr>\n",
       "      <th>3</th>\n",
       "      <td>1262599</td>\n",
       "      <td>371.410742</td>\n",
       "    </tr>\n",
       "    <tr>\n",
       "      <th>4</th>\n",
       "      <td>1495848</td>\n",
       "      <td>371.410742</td>\n",
       "    </tr>\n",
       "    <tr>\n",
       "      <th>5</th>\n",
       "      <td>1342607</td>\n",
       "      <td>371.410742</td>\n",
       "    </tr>\n",
       "    <tr>\n",
       "      <th>6</th>\n",
       "      <td>1358429</td>\n",
       "      <td>371.410742</td>\n",
       "    </tr>\n",
       "    <tr>\n",
       "      <th>7</th>\n",
       "      <td>1475006</td>\n",
       "      <td>371.410742</td>\n",
       "    </tr>\n",
       "    <tr>\n",
       "      <th>8</th>\n",
       "      <td>1009709</td>\n",
       "      <td>371.410742</td>\n",
       "    </tr>\n",
       "    <tr>\n",
       "      <th>9</th>\n",
       "      <td>1460444</td>\n",
       "      <td>671.967799</td>\n",
       "    </tr>\n",
       "  </tbody>\n",
       "</table>\n",
       "</div>"
      ],
      "text/plain": [
       "        id  num_orders\n",
       "0  1028232  371.410742\n",
       "1  1262649  371.410742\n",
       "2  1453211  371.410742\n",
       "3  1262599  371.410742\n",
       "4  1495848  371.410742\n",
       "5  1342607  371.410742\n",
       "6  1358429  371.410742\n",
       "7  1475006  371.410742\n",
       "8  1009709  371.410742\n",
       "9  1460444  671.967799"
      ]
     },
     "execution_count": 112,
     "metadata": {},
     "output_type": "execute_result"
    }
   ],
   "source": [
    "output2 = pd.read_csv('output/submission_GB.csv')\n",
    "output2.head(10)"
   ]
  },
  {
   "cell_type": "markdown",
   "id": "f6298861",
   "metadata": {},
   "source": [
    "## Reflections"
   ]
  },
  {
   "cell_type": "markdown",
   "id": "e85ed1b0",
   "metadata": {},
   "source": [
    "#### Some problems we found were that catboost regressor has a high runtime, to resolve this we later used decision tree and gradient boosting regressor.\n",
    "\n",
    "#### We do not have any concrete results at this point as we are exploring different models to improve optimization.\n",
    "\n",
    "#### This is our progress till now for this project and based on our current progress we think we are on the right track. Next up, we are working on using the XGBoost model and Random forest model on our dataset and then eventually compare and decide which model is giving us the best desirable results"
   ]
  },
  {
   "cell_type": "code",
   "execution_count": null,
   "id": "4581859e",
   "metadata": {},
   "outputs": [],
   "source": []
  }
 ],
 "metadata": {
  "kernelspec": {
   "display_name": "Python 3",
   "language": "python",
   "name": "python3"
  },
  "language_info": {
   "codemirror_mode": {
    "name": "ipython",
    "version": 3
   },
   "file_extension": ".py",
   "mimetype": "text/x-python",
   "name": "python",
   "nbconvert_exporter": "python",
   "pygments_lexer": "ipython3",
   "version": "3.8.8"
  }
 },
 "nbformat": 4,
 "nbformat_minor": 5
}
